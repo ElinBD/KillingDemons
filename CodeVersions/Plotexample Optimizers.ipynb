{
 "cells": [
  {
   "cell_type": "code",
   "execution_count": 1,
   "metadata": {},
   "outputs": [
    {
     "name": "stderr",
     "output_type": "stream",
     "text": [
      "C:\\Users\\elind\\Anaconda2\\envs\\py36\\lib\\site-packages\\h5py\\__init__.py:36: FutureWarning: Conversion of the second argument of issubdtype from `float` to `np.floating` is deprecated. In future, it will be treated as `np.float64 == np.dtype(float).type`.\n",
      "  from ._conv import register_converters as _register_converters\n"
     ]
    }
   ],
   "source": [
    "import numpy as np\n",
    "import matplotlib.pyplot as plt\n",
    "import shutil\n",
    "from tensorboard.backend.event_processing import event_accumulator\n",
    "import subprocess\n",
    "import webbrowser\n",
    "import os"
   ]
  },
  {
   "cell_type": "code",
   "execution_count": 2,
   "metadata": {},
   "outputs": [],
   "source": [
    "def get_summary(save_path,prepend=\"\"):\n",
    "    ea = event_accumulator.EventAccumulator(save_path)\n",
    "    if not os.path.exists(save_path):\n",
    "        print(\"no save path found, returning empy dict...\")\n",
    "        return dict()\n",
    "    ea.Reload()\n",
    "    res = dict()\n",
    "    for tag in ea.Tags()['scalars']:\n",
    "        evs = ea.Scalars(tag)\n",
    "        wall_time = [e.wall_time for e in evs]\n",
    "        step = [e.step for e in evs]\n",
    "        value = [e.value for e in evs]\n",
    "        tag = prepend + tag\n",
    "        res[tag] = value\n",
    "        res[tag+\"_step\"] = step\n",
    "        res[tag + \"_wall_time\"] = wall_time\n",
    "    res[prepend + 'scalars'] = [prepend + t for t in ea.Tags()['scalars']]\n",
    "    scalars = ea.Tags()['scalars']\n",
    "    #print(\"> get_summary():%s*; got %i scalars %s\" % (prepend, len(scalars), \", \".join(scalars)))\n",
    "\n",
    "    drs = os.listdir(save_path)\n",
    "    for d in drs:\n",
    "        np = os.path.join(save_path, d)\n",
    "        if os.path.isdir(np):\n",
    "            res.update( get_summary(np, d+'/') )\n",
    "    return res"
   ]
  },
  {
   "cell_type": "code",
   "execution_count": 3,
   "metadata": {},
   "outputs": [
    {
     "name": "stdout",
     "output_type": "stream",
     "text": [
      "INFO:tensorflow:No path found after C:\\Users\\elind\\Documents\\GitHub\\KillingDemons\\Plots\\data for Optimizers plot\\A2C_0\\events.out.tfevents.1557692000.AKSEL\n",
      "INFO:tensorflow:No path found after C:\\Users\\elind\\Documents\\GitHub\\KillingDemons\\Plots\\data for Optimizers plot\\A2C_1\\events.out.tfevents.1557692000.AKSEL\n",
      "INFO:tensorflow:No path found after C:\\Users\\elind\\Documents\\GitHub\\KillingDemons\\Plots\\data for Optimizers plot\\A2C_2\\events.out.tfevents.1557692000.AKSEL\n",
      "INFO:tensorflow:No path found after C:\\Users\\elind\\Documents\\GitHub\\KillingDemons\\Plots\\data for Optimizers plot\\A2C_4\\events.out.tfevents.1557692000.AKSEL\n",
      "INFO:tensorflow:No path found after C:\\Users\\elind\\Documents\\GitHub\\KillingDemons\\Plots\\data for Optimizers plot\\basictrain_23_0\\events.out.tfevents.1557867964.DESKTOP-FMLHC5U\n",
      "INFO:tensorflow:No path found after C:\\Users\\elind\\Documents\\GitHub\\KillingDemons\\Plots\\data for Optimizers plot\\basictrain_23_1\\events.out.tfevents.1557867970.DESKTOP-FMLHC5U\n",
      "INFO:tensorflow:No path found after C:\\Users\\elind\\Documents\\GitHub\\KillingDemons\\Plots\\data for Optimizers plot\\basictrain_23_2\\events.out.tfevents.1557867959.DESKTOP-FMLHC5U\n",
      "INFO:tensorflow:No path found after C:\\Users\\elind\\Documents\\GitHub\\KillingDemons\\Plots\\data for Optimizers plot\\basictrain_23_3\\events.out.tfevents.1557867960.DESKTOP-FMLHC5U\n",
      "INFO:tensorflow:No path found after C:\\Users\\elind\\Documents\\GitHub\\KillingDemons\\Plots\\data for Optimizers plot\\basictrain_3_0\\events.out.tfevents.1557885004.DESKTOP-FMLHC5U\n",
      "INFO:tensorflow:No path found after C:\\Users\\elind\\Documents\\GitHub\\KillingDemons\\Plots\\data for Optimizers plot\\basictrain_3_1\\events.out.tfevents.1557885010.DESKTOP-FMLHC5U\n",
      "INFO:tensorflow:No path found after C:\\Users\\elind\\Documents\\GitHub\\KillingDemons\\Plots\\data for Optimizers plot\\basictrain_3_2\\events.out.tfevents.1557885014.DESKTOP-FMLHC5U\n",
      "INFO:tensorflow:No path found after C:\\Users\\elind\\Documents\\GitHub\\KillingDemons\\Plots\\data for Optimizers plot\\basictrain_3_3\\events.out.tfevents.1557885024.DESKTOP-FMLHC5U\n",
      "INFO:tensorflow:No path found after C:\\Users\\elind\\Documents\\GitHub\\KillingDemons\\Plots\\data for Optimizers plot\\basictrain_5_0\\events.out.tfevents.1557889880.DESKTOP-FMLHC5U\n",
      "INFO:tensorflow:No path found after C:\\Users\\elind\\Documents\\GitHub\\KillingDemons\\Plots\\data for Optimizers plot\\basictrain_5_1\\events.out.tfevents.1557889877.DESKTOP-FMLHC5U\n",
      "INFO:tensorflow:No path found after C:\\Users\\elind\\Documents\\GitHub\\KillingDemons\\Plots\\data for Optimizers plot\\basictrain_5_2\\events.out.tfevents.1557889870.DESKTOP-FMLHC5U\n",
      "INFO:tensorflow:No path found after C:\\Users\\elind\\Documents\\GitHub\\KillingDemons\\Plots\\data for Optimizers plot\\basictrain_5_3\\events.out.tfevents.1557889876.DESKTOP-FMLHC5U\n",
      "INFO:tensorflow:No path found after C:\\Users\\elind\\Documents\\GitHub\\KillingDemons\\Plots\\data for Optimizers plot\\train_v2s6_lr=0.0001_bs=10_2019-05-08_23_decay09_0\\events.out.tfevents.1557351913.DESKTOP-FMLHC5U\n",
      "INFO:tensorflow:No path found after C:\\Users\\elind\\Documents\\GitHub\\KillingDemons\\Plots\\data for Optimizers plot\\train_v2s6_lr=0.0001_bs=10_2019-05-08_23_decay09_1\\events.out.tfevents.1557351912.DESKTOP-FMLHC5U\n",
      "INFO:tensorflow:No path found after C:\\Users\\elind\\Documents\\GitHub\\KillingDemons\\Plots\\data for Optimizers plot\\train_v2s6_lr=0.0001_bs=10_2019-05-08_23_decay09_2\\events.out.tfevents.1557351913.DESKTOP-FMLHC5U\n",
      "INFO:tensorflow:No path found after C:\\Users\\elind\\Documents\\GitHub\\KillingDemons\\Plots\\data for Optimizers plot\\train_v2s6_lr=0.0001_bs=10_2019-05-08_23_decay09_3\\events.out.tfevents.1557351913.DESKTOP-FMLHC5U\n",
      "INFO:tensorflow:No path found after C:\\Users\\elind\\Documents\\GitHub\\KillingDemons\\Plots\\data for Optimizers plot\\train_v2s6_lr=0.0001_bs=10_2019-05-09_15_decay08_0\\events.out.tfevents.1557407390.DESKTOP-FMLHC5U\n",
      "INFO:tensorflow:No path found after C:\\Users\\elind\\Documents\\GitHub\\KillingDemons\\Plots\\data for Optimizers plot\\train_v2s6_lr=0.0001_bs=10_2019-05-09_15_decay08_1\\events.out.tfevents.1557407382.DESKTOP-FMLHC5U\n",
      "INFO:tensorflow:No path found after C:\\Users\\elind\\Documents\\GitHub\\KillingDemons\\Plots\\data for Optimizers plot\\train_v2s6_lr=0.0001_bs=10_2019-05-09_15_decay08_2\\events.out.tfevents.1557407384.DESKTOP-FMLHC5U\n",
      "INFO:tensorflow:No path found after C:\\Users\\elind\\Documents\\GitHub\\KillingDemons\\Plots\\data for Optimizers plot\\train_v2s6_lr=0.0001_bs=10_2019-05-09_15_decay08_3\\events.out.tfevents.1557407388.DESKTOP-FMLHC5U\n",
      "INFO:tensorflow:No path found after C:\\Users\\elind\\Documents\\GitHub\\KillingDemons\\Plots\\data for Optimizers plot\\train_v2s6_lr=0.0001_bs=10_2019-05-12_11_decay08_0\\events.out.tfevents.1557654450.DESKTOP-FMLHC5U\n",
      "INFO:tensorflow:No path found after C:\\Users\\elind\\Documents\\GitHub\\KillingDemons\\Plots\\data for Optimizers plot\\train_v2s6_lr=0.0001_bs=10_2019-05-12_11_decay08_1\\events.out.tfevents.1557654449.DESKTOP-FMLHC5U\n",
      "INFO:tensorflow:No path found after C:\\Users\\elind\\Documents\\GitHub\\KillingDemons\\Plots\\data for Optimizers plot\\train_v2s6_lr=0.0001_bs=10_2019-05-12_11_decay08_2\\events.out.tfevents.1557654451.DESKTOP-FMLHC5U\n",
      "INFO:tensorflow:No path found after C:\\Users\\elind\\Documents\\GitHub\\KillingDemons\\Plots\\data for Optimizers plot\\train_v2s6_lr=0.0001_bs=10_2019-05-12_11_decay08_3\\events.out.tfevents.1557654453.DESKTOP-FMLHC5U\n",
      "INFO:tensorflow:No path found after C:\\Users\\elind\\Documents\\GitHub\\KillingDemons\\Plots\\data for Optimizers plot\\train_v2s6_lr=0.0001_bs=10_2019-05-13_18_decay099_0\\events.out.tfevents.1557765728.DESKTOP-FMLHC5U\n",
      "INFO:tensorflow:No path found after C:\\Users\\elind\\Documents\\GitHub\\KillingDemons\\Plots\\data for Optimizers plot\\train_v2s6_lr=0.0001_bs=10_2019-05-13_18_decay099_1\\events.out.tfevents.1557765714.DESKTOP-FMLHC5U\n",
      "INFO:tensorflow:No path found after C:\\Users\\elind\\Documents\\GitHub\\KillingDemons\\Plots\\data for Optimizers plot\\train_v2s6_lr=0.0001_bs=10_2019-05-13_18_decay099_2\\events.out.tfevents.1557765716.DESKTOP-FMLHC5U\n",
      "INFO:tensorflow:No path found after C:\\Users\\elind\\Documents\\GitHub\\KillingDemons\\Plots\\data for Optimizers plot\\train_v2s6_lr=0.0001_bs=10_2019-05-13_18_decay099_3\\events.out.tfevents.1557765716.DESKTOP-FMLHC5U\n",
      "INFO:tensorflow:No path found after C:\\Users\\elind\\Documents\\GitHub\\KillingDemons\\Plots\\data for Optimizers plot\\train_v2s6_lr=0.0001_bs=10_2019-05-13_7_decay099_0\\events.out.tfevents.1557723868.DESKTOP-FMLHC5U\n",
      "INFO:tensorflow:No path found after C:\\Users\\elind\\Documents\\GitHub\\KillingDemons\\Plots\\data for Optimizers plot\\train_v2s6_lr=0.0001_bs=10_2019-05-13_7_decay099_1\\events.out.tfevents.1557723867.DESKTOP-FMLHC5U\n",
      "INFO:tensorflow:No path found after C:\\Users\\elind\\Documents\\GitHub\\KillingDemons\\Plots\\data for Optimizers plot\\train_v2s6_lr=0.0001_bs=10_2019-05-13_7_decay099_2\\events.out.tfevents.1557723869.DESKTOP-FMLHC5U\n",
      "INFO:tensorflow:No path found after C:\\Users\\elind\\Documents\\GitHub\\KillingDemons\\Plots\\data for Optimizers plot\\train_v2s6_lr=0.0001_bs=10_2019-05-13_7_decay099_3\\events.out.tfevents.1557723869.DESKTOP-FMLHC5U\n",
      "INFO:tensorflow:No path found after C:\\Users\\elind\\Documents\\GitHub\\KillingDemons\\Plots\\data for Optimizers plot\\train_v2_lr=0.0001_bs=10_0\\events.out.tfevents.1556385093.TOBIAS-PC\n",
      "INFO:tensorflow:No path found after C:\\Users\\elind\\Documents\\GitHub\\KillingDemons\\Plots\\data for Optimizers plot\\train_v2_lr=0.0001_bs=10_1\\events.out.tfevents.1556385110.TOBIAS-PC\n",
      "INFO:tensorflow:No path found after C:\\Users\\elind\\Documents\\GitHub\\KillingDemons\\Plots\\data for Optimizers plot\\train_v2_lr=0.0001_bs=10_2\\events.out.tfevents.1556385097.TOBIAS-PC\n",
      "INFO:tensorflow:No path found after C:\\Users\\elind\\Documents\\GitHub\\KillingDemons\\Plots\\data for Optimizers plot\\train_v2_lr=0.0001_bs=10_3\\events.out.tfevents.1556385100.TOBIAS-PC\n",
      "INFO:tensorflow:Directory watcher advancing from C:\\Users\\elind\\Documents\\GitHub\\KillingDemons\\Plots\\data for Optimizers plot\\train__lr=1e-05_bs=10_0\\events.out.tfevents.1555445861.TOBIAS-PC to C:\\Users\\elind\\Documents\\GitHub\\KillingDemons\\Plots\\data for Optimizers plot\\train__lr=1e-05_bs=10_0\\events.out.tfevents.1555529990.TOBIAS-PC\n",
      "INFO:tensorflow:Directory watcher advancing from C:\\Users\\elind\\Documents\\GitHub\\KillingDemons\\Plots\\data for Optimizers plot\\train__lr=1e-05_bs=10_0\\events.out.tfevents.1555529990.TOBIAS-PC to C:\\Users\\elind\\Documents\\GitHub\\KillingDemons\\Plots\\data for Optimizers plot\\train__lr=1e-05_bs=10_0\\events.out.tfevents.1555556984.TOBIAS-PC\n"
     ]
    },
    {
     "name": "stdout",
     "output_type": "stream",
     "text": [
      "INFO:tensorflow:No path found after C:\\Users\\elind\\Documents\\GitHub\\KillingDemons\\Plots\\data for Optimizers plot\\train__lr=1e-05_bs=10_0\\events.out.tfevents.1555556984.TOBIAS-PC\n",
      "INFO:tensorflow:Directory watcher advancing from C:\\Users\\elind\\Documents\\GitHub\\KillingDemons\\Plots\\data for Optimizers plot\\train__lr=1e-05_bs=10_1\\events.out.tfevents.1555445852.TOBIAS-PC to C:\\Users\\elind\\Documents\\GitHub\\KillingDemons\\Plots\\data for Optimizers plot\\train__lr=1e-05_bs=10_1\\events.out.tfevents.1555529992.TOBIAS-PC\n",
      "INFO:tensorflow:Directory watcher advancing from C:\\Users\\elind\\Documents\\GitHub\\KillingDemons\\Plots\\data for Optimizers plot\\train__lr=1e-05_bs=10_1\\events.out.tfevents.1555529992.TOBIAS-PC to C:\\Users\\elind\\Documents\\GitHub\\KillingDemons\\Plots\\data for Optimizers plot\\train__lr=1e-05_bs=10_1\\events.out.tfevents.1555556987.TOBIAS-PC\n",
      "INFO:tensorflow:No path found after C:\\Users\\elind\\Documents\\GitHub\\KillingDemons\\Plots\\data for Optimizers plot\\train__lr=1e-05_bs=10_1\\events.out.tfevents.1555556987.TOBIAS-PC\n",
      "INFO:tensorflow:Directory watcher advancing from C:\\Users\\elind\\Documents\\GitHub\\KillingDemons\\Plots\\data for Optimizers plot\\train__lr=1e-05_bs=10_2\\events.out.tfevents.1555445866.TOBIAS-PC to C:\\Users\\elind\\Documents\\GitHub\\KillingDemons\\Plots\\data for Optimizers plot\\train__lr=1e-05_bs=10_2\\events.out.tfevents.1555529987.TOBIAS-PC\n",
      "INFO:tensorflow:Directory watcher advancing from C:\\Users\\elind\\Documents\\GitHub\\KillingDemons\\Plots\\data for Optimizers plot\\train__lr=1e-05_bs=10_2\\events.out.tfevents.1555529987.TOBIAS-PC to C:\\Users\\elind\\Documents\\GitHub\\KillingDemons\\Plots\\data for Optimizers plot\\train__lr=1e-05_bs=10_2\\events.out.tfevents.1555556978.TOBIAS-PC\n",
      "INFO:tensorflow:No path found after C:\\Users\\elind\\Documents\\GitHub\\KillingDemons\\Plots\\data for Optimizers plot\\train__lr=1e-05_bs=10_2\\events.out.tfevents.1555556978.TOBIAS-PC\n",
      "INFO:tensorflow:Directory watcher advancing from C:\\Users\\elind\\Documents\\GitHub\\KillingDemons\\Plots\\data for Optimizers plot\\train__lr=1e-05_bs=10_3\\events.out.tfevents.1555445857.TOBIAS-PC to C:\\Users\\elind\\Documents\\GitHub\\KillingDemons\\Plots\\data for Optimizers plot\\train__lr=1e-05_bs=10_3\\events.out.tfevents.1555529994.TOBIAS-PC\n",
      "INFO:tensorflow:Directory watcher advancing from C:\\Users\\elind\\Documents\\GitHub\\KillingDemons\\Plots\\data for Optimizers plot\\train__lr=1e-05_bs=10_3\\events.out.tfevents.1555529994.TOBIAS-PC to C:\\Users\\elind\\Documents\\GitHub\\KillingDemons\\Plots\\data for Optimizers plot\\train__lr=1e-05_bs=10_3\\events.out.tfevents.1555556974.TOBIAS-PC\n",
      "INFO:tensorflow:No path found after C:\\Users\\elind\\Documents\\GitHub\\KillingDemons\\Plots\\data for Optimizers plot\\train__lr=1e-05_bs=10_3\\events.out.tfevents.1555556974.TOBIAS-PC\n",
      "INFO:tensorflow:Directory watcher advancing from C:\\Users\\elind\\Documents\\GitHub\\KillingDemons\\Plots\\data for Optimizers plot\\train__lr=1e-06_bs=10_0\\events.out.tfevents.1555532593.TOBIAS-PC to C:\\Users\\elind\\Documents\\GitHub\\KillingDemons\\Plots\\data for Optimizers plot\\train__lr=1e-06_bs=10_0\\events.out.tfevents.1556198918.TOBIAS-PC\n",
      "INFO:tensorflow:Directory watcher advancing from C:\\Users\\elind\\Documents\\GitHub\\KillingDemons\\Plots\\data for Optimizers plot\\train__lr=1e-06_bs=10_0\\events.out.tfevents.1556198918.TOBIAS-PC to C:\\Users\\elind\\Documents\\GitHub\\KillingDemons\\Plots\\data for Optimizers plot\\train__lr=1e-06_bs=10_0\\events.out.tfevents.1556199514.TOBIAS-PC\n",
      "INFO:tensorflow:No path found after C:\\Users\\elind\\Documents\\GitHub\\KillingDemons\\Plots\\data for Optimizers plot\\train__lr=1e-06_bs=10_0\\events.out.tfevents.1556199514.TOBIAS-PC\n",
      "INFO:tensorflow:Directory watcher advancing from C:\\Users\\elind\\Documents\\GitHub\\KillingDemons\\Plots\\data for Optimizers plot\\train__lr=1e-06_bs=10_1\\events.out.tfevents.1555532594.TOBIAS-PC to C:\\Users\\elind\\Documents\\GitHub\\KillingDemons\\Plots\\data for Optimizers plot\\train__lr=1e-06_bs=10_1\\events.out.tfevents.1556198913.TOBIAS-PC\n",
      "INFO:tensorflow:Directory watcher advancing from C:\\Users\\elind\\Documents\\GitHub\\KillingDemons\\Plots\\data for Optimizers plot\\train__lr=1e-06_bs=10_1\\events.out.tfevents.1556198913.TOBIAS-PC to C:\\Users\\elind\\Documents\\GitHub\\KillingDemons\\Plots\\data for Optimizers plot\\train__lr=1e-06_bs=10_1\\events.out.tfevents.1556199515.TOBIAS-PC\n",
      "INFO:tensorflow:No path found after C:\\Users\\elind\\Documents\\GitHub\\KillingDemons\\Plots\\data for Optimizers plot\\train__lr=1e-06_bs=10_1\\events.out.tfevents.1556199515.TOBIAS-PC\n",
      "INFO:tensorflow:Directory watcher advancing from C:\\Users\\elind\\Documents\\GitHub\\KillingDemons\\Plots\\data for Optimizers plot\\train__lr=1e-06_bs=10_2\\events.out.tfevents.1555532594.TOBIAS-PC to C:\\Users\\elind\\Documents\\GitHub\\KillingDemons\\Plots\\data for Optimizers plot\\train__lr=1e-06_bs=10_2\\events.out.tfevents.1556198910.TOBIAS-PC\n",
      "INFO:tensorflow:Directory watcher advancing from C:\\Users\\elind\\Documents\\GitHub\\KillingDemons\\Plots\\data for Optimizers plot\\train__lr=1e-06_bs=10_2\\events.out.tfevents.1556198910.TOBIAS-PC to C:\\Users\\elind\\Documents\\GitHub\\KillingDemons\\Plots\\data for Optimizers plot\\train__lr=1e-06_bs=10_2\\events.out.tfevents.1556199522.TOBIAS-PC\n",
      "INFO:tensorflow:No path found after C:\\Users\\elind\\Documents\\GitHub\\KillingDemons\\Plots\\data for Optimizers plot\\train__lr=1e-06_bs=10_2\\events.out.tfevents.1556199522.TOBIAS-PC\n",
      "INFO:tensorflow:Directory watcher advancing from C:\\Users\\elind\\Documents\\GitHub\\KillingDemons\\Plots\\data for Optimizers plot\\train__lr=1e-06_bs=10_3\\events.out.tfevents.1555532608.TOBIAS-PC to C:\\Users\\elind\\Documents\\GitHub\\KillingDemons\\Plots\\data for Optimizers plot\\train__lr=1e-06_bs=10_3\\events.out.tfevents.1556198934.TOBIAS-PC\n",
      "INFO:tensorflow:Directory watcher advancing from C:\\Users\\elind\\Documents\\GitHub\\KillingDemons\\Plots\\data for Optimizers plot\\train__lr=1e-06_bs=10_3\\events.out.tfevents.1556198934.TOBIAS-PC to C:\\Users\\elind\\Documents\\GitHub\\KillingDemons\\Plots\\data for Optimizers plot\\train__lr=1e-06_bs=10_3\\events.out.tfevents.1556199524.TOBIAS-PC\n",
      "INFO:tensorflow:No path found after C:\\Users\\elind\\Documents\\GitHub\\KillingDemons\\Plots\\data for Optimizers plot\\train__lr=1e-06_bs=10_3\\events.out.tfevents.1556199524.TOBIAS-PC\n"
     ]
    }
   ],
   "source": [
    "logs = get_summary('C:\\\\Users\\\\elind\\\\Documents\\\\GitHub\\\\KillingDemons\\\\Plots\\\\data for Optimizers plot')"
   ]
  },
  {
   "cell_type": "code",
   "execution_count": 4,
   "metadata": {},
   "outputs": [],
   "source": [
    "def smootherfunc(kills_0,smooth_factor):\n",
    "    while (len(kills_0) % smooth_factor != 0):\n",
    "        kills_0= kills_0[:-1]\n",
    "    kills_0avg=np.mean(kills_0.reshape(-1, smooth_factor), axis=1)\n",
    "    kills_0std=np.std(kills_0.reshape(-1, smooth_factor), axis=1)/np.sqrt(smooth_factor)\n",
    "    return(kills_0avg,kills_0std)\n",
    "\n",
    "# If the arrays dont have the same length then mean over the ones we have.\n",
    "def clipfunction(kills_0,kills_1,kills_2,kills_3):\n",
    "    length=[len(kills_0),len(kills_1),len(kills_2),len(kills_3)]\n",
    "    minlen=np.min(length)\n",
    "    #index_min = np.argmin(length)\n",
    "    return(kills_0[0:minlen],kills_1[0:minlen],kills_2[0:minlen],kills_3[0:minlen])\n",
    "\n",
    "def avgkilltimereward(path, smooth_factor):\n",
    "    string2=(path.split('_0'))\n",
    "    stringname={}\n",
    "    for i in range(0,4):\n",
    "        stringname[i]=string2[0]+'_'+str(i)\n",
    "    print(stringname[0])\n",
    "    #kills_0 = 0#np.asarray(logs[str(stringname[0])+'/Perf/Kills'])\n",
    "    #kills_1 = 0#np.asarray(logs[str(stringname[1])+'/Perf/Kills'])\n",
    "    #kills_2 = 0#np.asarray(logs[str(stringname[2])+'/Perf/Kills'])\n",
    "    #kills_3 = 0#np.asarray(logs[str(stringname[3])+'/Perf/Kills'])\n",
    "    timealive_0 = np.asarray(logs[str(stringname[0])+'/Perf/Length'])\n",
    "    timealive_1 = np.asarray(logs[str(stringname[1])+'/Perf/Length'])\n",
    "    timealive_2 = np.asarray(logs[str(stringname[2])+'/Perf/Length'])\n",
    "    timealive_3 = np.asarray(logs[str(stringname[3])+'/Perf/Length'])\n",
    "    \n",
    "    reward_0 = np.asarray(logs[str(stringname[0])+'/Perf/Reward'])\n",
    "    reward_1 = np.asarray(logs[str(stringname[1])+'/Perf/Reward'])\n",
    "    reward_2 = np.asarray(logs[str(stringname[2])+'/Perf/Reward'])\n",
    "    reward_3 = np.asarray(logs[str(stringname[3])+'/Perf/Reward'])\n",
    "    \n",
    "    # the total number of frames used to train:\n",
    "    timealive=np.sum([timealive_0.sum(),timealive_1.sum(),timealive_2.sum(),timealive_3.sum()])\n",
    "    episodemean=(timealive_0[-20:-1].mean()+timealive_1[-20:-1].mean()+timealive_2[-20:-1].mean()+timealive_3[-20:-1].mean())/4\n",
    "    #killsmean=(kills_0[-20:-1].mean()+kills_1[-20:-1].mean()+kills_2[-20:-1].mean()+kills_3[-20:-1].mean())/4\n",
    "    print('Number of frames rendered='+str(timealive))\n",
    "    print('Average time alive per episode in last 100 episodes='+str(episodemean))\n",
    "    #print('Average kills episode in last 100 episodes='+str(killsmean))\n",
    "    #[kills_0,kills_1,kills_2,kills_3]=clipfunction(kills_0,kills_1,kills_2,kills_3)\n",
    "    [timealive_0,timealive_1,timealive_2,timealive_3]=clipfunction(timealive_0,timealive_1,timealive_2,timealive_3)\n",
    "    [reward_0,reward_1,reward_2,reward_3]=clipfunction(reward_0,reward_1,reward_2,reward_3)\n",
    "    \n",
    "    \n",
    "    timealivecum=np.sum([timealive_0.cumsum(),timealive_1.cumsum(),timealive_2.cumsum(),timealive_3.cumsum()],axis=0)\n",
    "    \n",
    "    [timealivecum,timealivecumstd]=smootherfunc(timealivecum,smooth_factor)\n",
    "    \n",
    "    \n",
    "    #killsavg=np.mean([kills_0,kills_1,kills_2,kills_3],axis=0)\n",
    "    #[killsavgsmoth,killsstd]=smootherfunc(killsavg,smooth_factor)\n",
    "    \n",
    "    timealiveavg=np.mean([timealive_0,timealive_1,timealive_2,timealive_3],axis=0)\n",
    "    [timealiveavgsmoth,timealivestd]=smootherfunc(timealiveavg,smooth_factor)\n",
    "    \n",
    "    rewardavg=np.mean([reward_0,reward_1,reward_2,reward_3],axis=0)\n",
    "    [rewardavgsmoth,rewardstd]=smootherfunc(rewardavg,smooth_factor)\n",
    "    \n",
    "    \n",
    "    return(timealiveavgsmoth,timealivestd,timealivecum,rewardavgsmoth,rewardstd) #killsavgsmoth,killsstd,\n",
    "    "
   ]
  },
  {
   "cell_type": "code",
   "execution_count": 5,
   "metadata": {},
   "outputs": [],
   "source": [
    "def smootherfunc2C(kills_0,smooth_factor):\n",
    "    while (len(kills_0) % smooth_factor != 0):\n",
    "        kills_0= kills_0[:-1]\n",
    "    kills_0avg=np.mean(kills_0.reshape(-1, smooth_factor), axis=1)\n",
    "    kills_0std=np.std(kills_0.reshape(-1, smooth_factor), axis=1)/np.sqrt(smooth_factor)\n",
    "    return(kills_0avg,kills_0std)\n",
    "\n",
    "# If the arrays dont have the same length then mean over the ones we have.\n",
    "def clipfunction2C(kills_0):\n",
    "    length=len(kills_0)\n",
    "    minlen=np.min(length)\n",
    "    #index_min = np.argmin(length)\n",
    "    return(kills_0[0:minlen])\n",
    "\n",
    "def avgkilltimereward2C(path, smooth_factor):\n",
    "    #string2=(path.split('_0'))\n",
    "    #stringname={}\n",
    "    #for i in range(0,4):\n",
    "     #   stringname[i]=string2[0]+'_'+str(i)\n",
    "    #print(stringname[0])\n",
    "    #kills_0 = 0#np.asarray(logs[str(stringname[0])+'/Perf/Kills'])\n",
    "    #kills_1 = 0#np.asarray(logs[str(stringname[1])+'/Perf/Kills'])\n",
    "    #kills_2 = 0#np.asarray(logs[str(stringname[2])+'/Perf/Kills'])\n",
    "    #kills_3 = 0#np.asarray(logs[str(stringname[3])+'/Perf/Kills'])\n",
    "    timealive_0 = np.asarray(logs[str(path)+'/Perf/Length'])\n",
    "    #timealive_1 = np.asarray(logs[str(stringname[1])+'/Perf/Length'])\n",
    "    #timealive_2 = np.asarray(logs[str(stringname[2])+'/Perf/Length'])\n",
    "    #timealive_3 = np.asarray(logs[str(stringname[3])+'/Perf/Length'])\n",
    "    \n",
    "    reward_0 = np.asarray(logs[str(path)+'/Perf/Reward'])\n",
    "    #reward_1 = np.asarray(logs[str(stringname[1])+'/Perf/Reward'])\n",
    "    #reward_2 = np.asarray(logs[str(stringname[2])+'/Perf/Reward'])\n",
    "    #reward_3 = np.asarray(logs[str(stringname[3])+'/Perf/Reward'])\n",
    "    \n",
    "    # the total number of frames used to train:\n",
    "    timealive=np.sum(timealive_0.sum())\n",
    "    episodemean=(timealive_0[-20:-1].mean())\n",
    "    #killsmean=(kills_0[-20:-1].mean()+kills_1[-20:-1].mean()+kills_2[-20:-1].mean()+kills_3[-20:-1].mean())/4\n",
    "    print('Number of frames rendered='+str(timealive))\n",
    "    print('Average time alive per episode in last 100 episodes='+str(episodemean))\n",
    "    #print('Average kills episode in last 100 episodes='+str(killsmean))\n",
    "    #[kills_0,kills_1,kills_2,kills_3]=clipfunction(kills_0,kills_1,kills_2,kills_3)\n",
    "    timealive_0=clipfunction2C(timealive_0)\n",
    "    reward_0=clipfunction2C(reward_0)\n",
    "    \n",
    "    \n",
    "    timealivecum=np.sum(timealive_0.cumsum(),axis=0)\n",
    "    \n",
    "    [timealivecum,timealivecumstd]=smootherfunc2C(timealivecum,smooth_factor)\n",
    "    \n",
    "    \n",
    "    #killsavg=np.mean([kills_0,kills_1,kills_2,kills_3],axis=0)\n",
    "    #[killsavgsmoth,killsstd]=smootherfunc(killsavg,smooth_factor)\n",
    "    \n",
    "    timealiveavg=np.mean([timealive_0],axis=0)\n",
    "    [timealiveavgsmoth,timealivestd]=smootherfunc2C(timealiveavg,smooth_factor)\n",
    "    \n",
    "    rewardavg=np.mean([reward_0],axis=0)\n",
    "    [rewardavgsmoth,rewardstd]=smootherfunc2C(rewardavg,smooth_factor)\n",
    "    \n",
    "    \n",
    "    return(timealiveavgsmoth,timealivestd,timealivecum,rewardavgsmoth,rewardstd) #killsavgsmoth,killsstd,\n",
    "    "
   ]
  },
  {
   "cell_type": "code",
   "execution_count": 6,
   "metadata": {},
   "outputs": [],
   "source": [
    "def mergeab(timealiveR99a,timealiveR99stda,framesR99a,rewardR99a,rewardR99stda, timealiveR99b,timealiveR99stdb,framesR99b,rewardR99b,rewardR99stdb):\n",
    "        print(timealiveR99a)\n",
    "        timealiveR99 = np.concatenate((timealiveR99a, timealiveR99b))\n",
    "        timealiveR99std = np.concatenate((timealiveR99stda, timealiveR99stdb))\n",
    "        framesR99 = np.concatenate((framesR99a, framesR99b+278552.99950408936))\n",
    "        rewardR99 = np.concatenate((rewardR99a, rewardR99b))\n",
    "        rewardR99std = np.concatenate((rewardR99stda, rewardR99stdb))\n",
    "        \n",
    "        return (timealiveR99,timealiveR99std,framesR99,rewardR99,rewardR99std)"
   ]
  },
  {
   "cell_type": "code",
   "execution_count": 21,
   "metadata": {},
   "outputs": [
    {
     "name": "stdout",
     "output_type": "stream",
     "text": [
      "train_v2_lr=0.0001_bs=10_0\n",
      "Number of frames rendered=546355.2002487183\n",
      "Average time alive per episode in last 100 episodes=365.42368517423927\n",
      "train__lr=1e-06_bs=10_0\n",
      "Number of frames rendered=100794.59995269775\n",
      "Average time alive per episode in last 100 episodes=106.20789407428943\n",
      "train__lr=1e-05_bs=10_0\n",
      "Number of frames rendered=239206.79960632324\n",
      "Average time alive per episode in last 100 episodes=138.09736813996966\n",
      "train_v2s6_lr=0.0001_bs=10_2019-05-12_11_decay08_0\n",
      "Number of frames rendered=644804.3998298645\n",
      "Average time alive per episode in last 100 episodes=140.24473712318823\n",
      "train_v2s6_lr=0.0001_bs=10_2019-05-08_23_decay09_0\n",
      "Number of frames rendered=687214.7997894287\n",
      "Average time alive per episode in last 100 episodes=172.78157987092672\n",
      "train_v2s6_lr=0.0001_bs=10_2019-05-13_7_decay099_0\n",
      "Number of frames rendered=278552.99950408936\n",
      "Average time alive per episode in last 100 episodes=175.86052543238588\n",
      "train_v2s6_lr=0.0001_bs=10_2019-05-13_18_decay099_0\n",
      "Number of frames rendered=510387.7999267578\n",
      "Average time alive per episode in last 100 episodes=171.0842100444593\n",
      "[ 81.93299984 105.38699993 126.89799957 149.84100018 155.51300003\n",
      " 156.41299984 163.80899963 161.77399921 164.30999992]\n"
     ]
    }
   ],
   "source": [
    "\n",
    "# The smoothing factor \n",
    "smooth_factor=50 # from 1 to alot...\n",
    "# Filepath of the folders which ends with : _0 , it fill load the rest of the agents, and average over them..\n",
    "[timealiveA4,timealiveA4std,framesA4,rewardA4,rewardA4std]=avgkilltimereward('train_v2_lr=0.0001_bs=10_0',smooth_factor) #kills10,kills10std,\n",
    "[timealiveA6,timealiveA6std,framesA6,rewardA6,rewardA6std]=avgkilltimereward('train__lr=1e-06_bs=10_0',smooth_factor) #kills10,kills10std,\n",
    "[timealiveA5,timealiveA5std,framesA5,rewardA5,rewardA5std]=avgkilltimereward('train__lr=1e-05_bs=10_0',smooth_factor) #kills10,kills10std,\n",
    "[timealiveR8,timealiveR8std,framesR8,rewardR8,rewardR8std]=avgkilltimereward('train_v2s6_lr=0.0001_bs=10_2019-05-12_11_decay08_0',smooth_factor) #kills10,kills10std,\n",
    "[timealiveR9,timealiveR9std,framesR9,rewardR9,rewardR9std]=avgkilltimereward('train_v2s6_lr=0.0001_bs=10_2019-05-08_23_decay09_0',smooth_factor) #kills10,kills10std,\n",
    "[timealiveR99a,timealiveR99stda,framesR99a,rewardR99a,rewardR99stda] = avgkilltimereward('train_v2s6_lr=0.0001_bs=10_2019-05-13_7_decay099_0',smooth_factor) \n",
    "[timealiveR99b,timealiveR99stdb,framesR99b,rewardR99b,rewardR99stdb]=avgkilltimereward('train_v2s6_lr=0.0001_bs=10_2019-05-13_18_decay099_0',smooth_factor) #kills10,kills10std,\n",
    "[timealiveR99,timealiveR99std,framesR99,rewardR99,rewardR99std] = mergeab(timealiveR99a,timealiveR99stda,framesR99a,rewardR99a,rewardR99stda, timealiveR99b,timealiveR99stdb,framesR99b,rewardR99b,rewardR99stdb)\n",
    "\n",
    "#[timealiveR99,timealiveR99std,framesR99,rewardR99,rewardR99std]=avgkilltimereward2C('train_v2s6_lr=0.0001_bs=10_2019-05-13_18_decay099_0',smooth_factor) #kills10,kills10std,\n",
    "#[timealive10,timealive10std,frames10,reward10,reward10std]=avgkilltimereward('A2C_0',smooth_factor) #kills10,kills10std,\n",
    "#[timealive10,timealive10std,frames10,reward10,reward10std]=avgkilltimereward('train_v2_lr=0.0001_bs=10_0',smooth_factor) #kills10,kills10std,\n",
    "#[kills20,kills20std,timealive20,timealive20std,frames20,reward20,reward20std]=avgkilltimereward('train_v2s6_lr=0.0001_bs=10_1',smooth_factor)\n",
    "#[kills30,kills30std,timealive30,timealive30std,frames30,reward30,reward30std]=avgkilltimereward('train_v2s6_lr=0.0001_bs=10_2',smooth_factor)\n",
    "#[kills50,kills50std,timealive50,timealive50std,frames50,reward50,reward50std]=avgkilltimereward('train_v2s6_lr=0.0001_bs=10_3',smooth_factor)\n",
    "#[kills75,kills75std,timealive75,timealive75std,frames75,reward75,reward75std]=avgkilltimereward('train_v2s6_lr=0.0001_bs=15_0',smooth_factor)\n",
    "#[kills100,kills100std,timealive100,timealive100std,frames100,reward100,reward100std]=avgkilltimereward('train_v2s6_lr=0.0001_bs=100_0',smooth_factor)\n",
    "# so the output is the Kill, kill std. Time alive for each episode, std of that. The frames, and the reward and reward std.\n"
   ]
  },
  {
   "cell_type": "code",
   "execution_count": 22,
   "metadata": {},
   "outputs": [
    {
     "data": {
      "image/png": "[encoded data removed]",
      "text/plain": [
       "<Figure size 432x288 with 1 Axes>"
      ]
     },
     "metadata": {
      "needs_background": "light"
     },
     "output_type": "display_data"
    }
   ],
   "source": [
    "x=2\n",
    "figure1=plt.figure()\n",
    "#figsize=(6, 6)\n",
    "plt.plot(framesA4,timealiveA4,label='AdamOptimizer(lr = 1e-4)')\n",
    "plt.fill_between(framesA4,timealiveA4+2*timealiveA4std,timealiveA4-2*timealiveA4std,alpha=0.3)\n",
    "\n",
    "plt.plot(framesA5,timealiveA5,label='AdamOptimizer(lr = 1e-5)')\n",
    "plt.fill_between(framesA5,timealiveA5+2*timealiveA5std,timealiveA5-2*timealiveA5std,alpha=0.3)\n",
    "\n",
    "plt.plot(framesA6,timealiveA6,label='AdamOptimizer(lr = 1e-6)')\n",
    "plt.fill_between(framesA6,timealiveA6+2*timealiveA6std,timealiveA6-2*timealiveA6std,alpha=0.3)\n",
    "\n",
    "plt.plot(framesR8,timealiveR8*x,label='RMSProp(lr = 1e-4, decay = 0.8)')\n",
    "plt.fill_between(framesR8,timealiveR8*x+2*timealiveR8std,timealiveR8*x-2*timealiveR8std,alpha=0.3)\n",
    "\n",
    "plt.plot(framesR9,timealiveR9*x,label='RMSProp(lr = 1e-4, decay = 0.9)')\n",
    "plt.fill_between(framesR9,timealiveR9*x+2*timealiveR9std,timealiveR9*x-2*timealiveR9std,alpha=0.3)\n",
    "\n",
    "plt.plot(framesR99,timealiveR99*x,label='RMSProp(lr = 1e-4, decay = 0.99)')\n",
    "plt.fill_between(framesR99,timealiveR99*x+2*timealiveR99std,timealiveR99*x-2*timealiveR99std,alpha=0.3)\n",
    "\n",
    "plt.ylabel('Average time alive')\n",
    "plt.xlabel('Rendered frames')\n",
    "plt.ticklabel_format(style='sci', axis='x', scilimits=(0,0))\n",
    "plt.xlim([0,400000])\n",
    "plt.legend()\n",
    "\n",
    "plt.grid()\n",
    "\n",
    "# Save the plot the next cell."
   ]
  },
  {
   "cell_type": "code",
   "execution_count": 89,
   "metadata": {},
   "outputs": [],
   "source": [
    "figure1.savefig(\"Optimizers.pdf\", bbox_inches='tight')"
   ]
  },
  {
   "cell_type": "code",
   "execution_count": 11,
   "metadata": {},
   "outputs": [
    {
     "ename": "NameError",
     "evalue": "name 'frames100' is not defined",
     "output_type": "error",
     "traceback": [
      "\u001b[1;31m---------------------------------------------------------------------------\u001b[0m",
      "\u001b[1;31mNameError\u001b[0m                                 Traceback (most recent call last)",
      "\u001b[1;32m<ipython-input-11-fc091c750640>\u001b[0m in \u001b[0;36m<module>\u001b[1;34m()\u001b[0m\n\u001b[0;32m      2\u001b[0m \u001b[1;31m#plt.plot(frames50,timealive50,label='Batch size 100')\u001b[0m\u001b[1;33m\u001b[0m\u001b[1;33m\u001b[0m\u001b[1;33m\u001b[0m\u001b[0m\n\u001b[0;32m      3\u001b[0m \u001b[1;31m#plt.fill_between(frames50,timealive50+2*timealive50std,timealive50-2*timealive50std,alpha=0.3)\u001b[0m\u001b[1;33m\u001b[0m\u001b[1;33m\u001b[0m\u001b[1;33m\u001b[0m\u001b[0m\n\u001b[1;32m----> 4\u001b[1;33m \u001b[0mplt\u001b[0m\u001b[1;33m.\u001b[0m\u001b[0mplot\u001b[0m\u001b[1;33m(\u001b[0m\u001b[0mframes100\u001b[0m\u001b[1;33m,\u001b[0m\u001b[0mtimealive100\u001b[0m\u001b[1;33m,\u001b[0m\u001b[0mlabel\u001b[0m\u001b[1;33m=\u001b[0m\u001b[1;34m'Time alive'\u001b[0m\u001b[1;33m)\u001b[0m\u001b[1;33m\u001b[0m\u001b[1;33m\u001b[0m\u001b[0m\n\u001b[0m",
      "\u001b[1;31mNameError\u001b[0m: name 'frames100' is not defined"
     ]
    },
    {
     "data": {
      "text/plain": [
       "<Figure size 432x288 with 0 Axes>"
      ]
     },
     "metadata": {},
     "output_type": "display_data"
    }
   ],
   "source": [
    "plt.figure()\n",
    "#plt.plot(frames50,timealive50,label='Batch size 100')\n",
    "#plt.fill_between(frames50,timealive50+2*timealive50std,timealive50-2*timealive50std,alpha=0.3)\n",
    "plt.plot(frames100,timealive100,label='Time alive')\n"
   ]
  },
  {
   "cell_type": "code",
   "execution_count": null,
   "metadata": {},
   "outputs": [],
   "source": []
  }
 ],
 "metadata": {
  "kernelspec": {
   "display_name": "Python 3",
   "language": "python",
   "name": "python3"
  },
  "language_info": {
   "codemirror_mode": {
    "name": "ipython",
    "version": 3
   },
   "file_extension": ".py",
   "mimetype": "text/x-python",
   "name": "python",
   "nbconvert_exporter": "python",
   "pygments_lexer": "ipython3",
   "version": "3.6.8"
  }
 },
 "nbformat": 4,
 "nbformat_minor": 2
}
