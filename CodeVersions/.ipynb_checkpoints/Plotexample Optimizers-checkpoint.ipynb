{
 "cells": [
  {
   "cell_type": "code",
   "execution_count": 1,
   "metadata": {},
   "outputs": [
    {
     "name": "stderr",
     "output_type": "stream",
     "text": [
      "C:\\Users\\elind\\Anaconda2\\envs\\py36\\lib\\site-packages\\h5py\\__init__.py:36: FutureWarning: Conversion of the second argument of issubdtype from `float` to `np.floating` is deprecated. In future, it will be treated as `np.float64 == np.dtype(float).type`.\n",
      "  from ._conv import register_converters as _register_converters\n"
     ]
    }
   ],
   "source": [
    "import numpy as np\n",
    "import matplotlib.pyplot as plt\n",
    "import shutil\n",
    "from tensorboard.backend.event_processing import event_accumulator\n",
    "import subprocess\n",
    "import webbrowser\n",
    "import os"
   ]
  },
  {
   "cell_type": "code",
   "execution_count": 2,
   "metadata": {},
   "outputs": [],
   "source": [
    "def get_summary(save_path,prepend=\"\"):\n",
    "    ea = event_accumulator.EventAccumulator(save_path)\n",
    "    if not os.path.exists(save_path):\n",
    "        print(\"no save path found, returning empy dict...\")\n",
    "        return dict()\n",
    "    ea.Reload()\n",
    "    res = dict()\n",
    "    for tag in ea.Tags()['scalars']:\n",
    "        evs = ea.Scalars(tag)\n",
    "        wall_time = [e.wall_time for e in evs]\n",
    "        step = [e.step for e in evs]\n",
    "        value = [e.value for e in evs]\n",
    "        tag = prepend + tag\n",
    "        res[tag] = value\n",
    "        res[tag+\"_step\"] = step\n",
    "        res[tag + \"_wall_time\"] = wall_time\n",
    "    res[prepend + 'scalars'] = [prepend + t for t in ea.Tags()['scalars']]\n",
    "    scalars = ea.Tags()['scalars']\n",
    "    #print(\"> get_summary():%s*; got %i scalars %s\" % (prepend, len(scalars), \", \".join(scalars)))\n",
    "\n",
    "    drs = os.listdir(save_path)\n",
    "    for d in drs:\n",
    "        np = os.path.join(save_path, d)\n",
    "        if os.path.isdir(np):\n",
    "            res.update( get_summary(np, d+'/') )\n",
    "    return res"
   ]
  },
  {
   "cell_type": "code",
   "execution_count": 3,
   "metadata": {},
   "outputs": [
    {
     "name": "stdout",
     "output_type": "stream",
     "text": [
      "INFO:tensorflow:No path found after C:\\Users\\elind\\Documents\\GitHub\\KillingDemons\\Plots\\data for Optimizers plot\\train_v2_lr=0.0001_bs=10_0\\events.out.tfevents.1556385093.TOBIAS-PC\n",
      "INFO:tensorflow:No path found after C:\\Users\\elind\\Documents\\GitHub\\KillingDemons\\Plots\\data for Optimizers plot\\train_v2_lr=0.0001_bs=10_1\\events.out.tfevents.1556385110.TOBIAS-PC\n",
      "INFO:tensorflow:No path found after C:\\Users\\elind\\Documents\\GitHub\\KillingDemons\\Plots\\data for Optimizers plot\\train_v2_lr=0.0001_bs=10_2\\events.out.tfevents.1556385097.TOBIAS-PC\n",
      "INFO:tensorflow:No path found after C:\\Users\\elind\\Documents\\GitHub\\KillingDemons\\Plots\\data for Optimizers plot\\train_v2_lr=0.0001_bs=10_3\\events.out.tfevents.1556385100.TOBIAS-PC\n",
      "INFO:tensorflow:Directory watcher advancing from C:\\Users\\elind\\Documents\\GitHub\\KillingDemons\\Plots\\data for Optimizers plot\\train__lr=1e-05_bs=10_0\\events.out.tfevents.1555445861.TOBIAS-PC to C:\\Users\\elind\\Documents\\GitHub\\KillingDemons\\Plots\\data for Optimizers plot\\train__lr=1e-05_bs=10_0\\events.out.tfevents.1555529990.TOBIAS-PC\n",
      "INFO:tensorflow:Directory watcher advancing from C:\\Users\\elind\\Documents\\GitHub\\KillingDemons\\Plots\\data for Optimizers plot\\train__lr=1e-05_bs=10_0\\events.out.tfevents.1555529990.TOBIAS-PC to C:\\Users\\elind\\Documents\\GitHub\\KillingDemons\\Plots\\data for Optimizers plot\\train__lr=1e-05_bs=10_0\\events.out.tfevents.1555556984.TOBIAS-PC\n",
      "INFO:tensorflow:No path found after C:\\Users\\elind\\Documents\\GitHub\\KillingDemons\\Plots\\data for Optimizers plot\\train__lr=1e-05_bs=10_0\\events.out.tfevents.1555556984.TOBIAS-PC\n",
      "INFO:tensorflow:Directory watcher advancing from C:\\Users\\elind\\Documents\\GitHub\\KillingDemons\\Plots\\data for Optimizers plot\\train__lr=1e-05_bs=10_1\\events.out.tfevents.1555445852.TOBIAS-PC to C:\\Users\\elind\\Documents\\GitHub\\KillingDemons\\Plots\\data for Optimizers plot\\train__lr=1e-05_bs=10_1\\events.out.tfevents.1555529992.TOBIAS-PC\n",
      "INFO:tensorflow:Directory watcher advancing from C:\\Users\\elind\\Documents\\GitHub\\KillingDemons\\Plots\\data for Optimizers plot\\train__lr=1e-05_bs=10_1\\events.out.tfevents.1555529992.TOBIAS-PC to C:\\Users\\elind\\Documents\\GitHub\\KillingDemons\\Plots\\data for Optimizers plot\\train__lr=1e-05_bs=10_1\\events.out.tfevents.1555556987.TOBIAS-PC\n",
      "INFO:tensorflow:No path found after C:\\Users\\elind\\Documents\\GitHub\\KillingDemons\\Plots\\data for Optimizers plot\\train__lr=1e-05_bs=10_1\\events.out.tfevents.1555556987.TOBIAS-PC\n",
      "INFO:tensorflow:Directory watcher advancing from C:\\Users\\elind\\Documents\\GitHub\\KillingDemons\\Plots\\data for Optimizers plot\\train__lr=1e-05_bs=10_2\\events.out.tfevents.1555445866.TOBIAS-PC to C:\\Users\\elind\\Documents\\GitHub\\KillingDemons\\Plots\\data for Optimizers plot\\train__lr=1e-05_bs=10_2\\events.out.tfevents.1555529987.TOBIAS-PC\n",
      "INFO:tensorflow:Directory watcher advancing from C:\\Users\\elind\\Documents\\GitHub\\KillingDemons\\Plots\\data for Optimizers plot\\train__lr=1e-05_bs=10_2\\events.out.tfevents.1555529987.TOBIAS-PC to C:\\Users\\elind\\Documents\\GitHub\\KillingDemons\\Plots\\data for Optimizers plot\\train__lr=1e-05_bs=10_2\\events.out.tfevents.1555556978.TOBIAS-PC\n",
      "INFO:tensorflow:No path found after C:\\Users\\elind\\Documents\\GitHub\\KillingDemons\\Plots\\data for Optimizers plot\\train__lr=1e-05_bs=10_2\\events.out.tfevents.1555556978.TOBIAS-PC\n",
      "INFO:tensorflow:Directory watcher advancing from C:\\Users\\elind\\Documents\\GitHub\\KillingDemons\\Plots\\data for Optimizers plot\\train__lr=1e-05_bs=10_3\\events.out.tfevents.1555445857.TOBIAS-PC to C:\\Users\\elind\\Documents\\GitHub\\KillingDemons\\Plots\\data for Optimizers plot\\train__lr=1e-05_bs=10_3\\events.out.tfevents.1555529994.TOBIAS-PC\n",
      "INFO:tensorflow:Directory watcher advancing from C:\\Users\\elind\\Documents\\GitHub\\KillingDemons\\Plots\\data for Optimizers plot\\train__lr=1e-05_bs=10_3\\events.out.tfevents.1555529994.TOBIAS-PC to C:\\Users\\elind\\Documents\\GitHub\\KillingDemons\\Plots\\data for Optimizers plot\\train__lr=1e-05_bs=10_3\\events.out.tfevents.1555556974.TOBIAS-PC\n",
      "INFO:tensorflow:No path found after C:\\Users\\elind\\Documents\\GitHub\\KillingDemons\\Plots\\data for Optimizers plot\\train__lr=1e-05_bs=10_3\\events.out.tfevents.1555556974.TOBIAS-PC\n",
      "INFO:tensorflow:Directory watcher advancing from C:\\Users\\elind\\Documents\\GitHub\\KillingDemons\\Plots\\data for Optimizers plot\\train__lr=1e-06_bs=10_0\\events.out.tfevents.1555532593.TOBIAS-PC to C:\\Users\\elind\\Documents\\GitHub\\KillingDemons\\Plots\\data for Optimizers plot\\train__lr=1e-06_bs=10_0\\events.out.tfevents.1556198918.TOBIAS-PC\n",
      "INFO:tensorflow:Directory watcher advancing from C:\\Users\\elind\\Documents\\GitHub\\KillingDemons\\Plots\\data for Optimizers plot\\train__lr=1e-06_bs=10_0\\events.out.tfevents.1556198918.TOBIAS-PC to C:\\Users\\elind\\Documents\\GitHub\\KillingDemons\\Plots\\data for Optimizers plot\\train__lr=1e-06_bs=10_0\\events.out.tfevents.1556199514.TOBIAS-PC\n",
      "INFO:tensorflow:No path found after C:\\Users\\elind\\Documents\\GitHub\\KillingDemons\\Plots\\data for Optimizers plot\\train__lr=1e-06_bs=10_0\\events.out.tfevents.1556199514.TOBIAS-PC\n",
      "INFO:tensorflow:Directory watcher advancing from C:\\Users\\elind\\Documents\\GitHub\\KillingDemons\\Plots\\data for Optimizers plot\\train__lr=1e-06_bs=10_1\\events.out.tfevents.1555532594.TOBIAS-PC to C:\\Users\\elind\\Documents\\GitHub\\KillingDemons\\Plots\\data for Optimizers plot\\train__lr=1e-06_bs=10_1\\events.out.tfevents.1556198913.TOBIAS-PC\n",
      "INFO:tensorflow:Directory watcher advancing from C:\\Users\\elind\\Documents\\GitHub\\KillingDemons\\Plots\\data for Optimizers plot\\train__lr=1e-06_bs=10_1\\events.out.tfevents.1556198913.TOBIAS-PC to C:\\Users\\elind\\Documents\\GitHub\\KillingDemons\\Plots\\data for Optimizers plot\\train__lr=1e-06_bs=10_1\\events.out.tfevents.1556199515.TOBIAS-PC\n",
      "INFO:tensorflow:No path found after C:\\Users\\elind\\Documents\\GitHub\\KillingDemons\\Plots\\data for Optimizers plot\\train__lr=1e-06_bs=10_1\\events.out.tfevents.1556199515.TOBIAS-PC\n",
      "INFO:tensorflow:Directory watcher advancing from C:\\Users\\elind\\Documents\\GitHub\\KillingDemons\\Plots\\data for Optimizers plot\\train__lr=1e-06_bs=10_2\\events.out.tfevents.1555532594.TOBIAS-PC to C:\\Users\\elind\\Documents\\GitHub\\KillingDemons\\Plots\\data for Optimizers plot\\train__lr=1e-06_bs=10_2\\events.out.tfevents.1556198910.TOBIAS-PC\n",
      "INFO:tensorflow:Directory watcher advancing from C:\\Users\\elind\\Documents\\GitHub\\KillingDemons\\Plots\\data for Optimizers plot\\train__lr=1e-06_bs=10_2\\events.out.tfevents.1556198910.TOBIAS-PC to C:\\Users\\elind\\Documents\\GitHub\\KillingDemons\\Plots\\data for Optimizers plot\\train__lr=1e-06_bs=10_2\\events.out.tfevents.1556199522.TOBIAS-PC\n",
      "INFO:tensorflow:No path found after C:\\Users\\elind\\Documents\\GitHub\\KillingDemons\\Plots\\data for Optimizers plot\\train__lr=1e-06_bs=10_2\\events.out.tfevents.1556199522.TOBIAS-PC\n",
      "INFO:tensorflow:Directory watcher advancing from C:\\Users\\elind\\Documents\\GitHub\\KillingDemons\\Plots\\data for Optimizers plot\\train__lr=1e-06_bs=10_3\\events.out.tfevents.1555532608.TOBIAS-PC to C:\\Users\\elind\\Documents\\GitHub\\KillingDemons\\Plots\\data for Optimizers plot\\train__lr=1e-06_bs=10_3\\events.out.tfevents.1556198934.TOBIAS-PC\n",
      "INFO:tensorflow:Directory watcher advancing from C:\\Users\\elind\\Documents\\GitHub\\KillingDemons\\Plots\\data for Optimizers plot\\train__lr=1e-06_bs=10_3\\events.out.tfevents.1556198934.TOBIAS-PC to C:\\Users\\elind\\Documents\\GitHub\\KillingDemons\\Plots\\data for Optimizers plot\\train__lr=1e-06_bs=10_3\\events.out.tfevents.1556199524.TOBIAS-PC\n",
      "INFO:tensorflow:No path found after C:\\Users\\elind\\Documents\\GitHub\\KillingDemons\\Plots\\data for Optimizers plot\\train__lr=1e-06_bs=10_3\\events.out.tfevents.1556199524.TOBIAS-PC\n"
     ]
    }
   ],
   "source": [
    "logs = get_summary('C:\\\\Users\\\\elind\\\\Documents\\\\GitHub\\\\KillingDemons\\\\Plots\\\\data for Optimizers plot')"
   ]
  },
  {
   "cell_type": "code",
   "execution_count": 4,
   "metadata": {},
   "outputs": [],
   "source": [
    "def smootherfunc(kills_0,smooth_factor):\n",
    "    while (len(kills_0) % smooth_factor != 0):\n",
    "        kills_0= kills_0[:-1]\n",
    "    kills_0avg=np.mean(kills_0.reshape(-1, smooth_factor), axis=1)\n",
    "    kills_0std=np.std(kills_0.reshape(-1, smooth_factor), axis=1)/np.sqrt(smooth_factor)\n",
    "    return(kills_0avg,kills_0std)\n",
    "# If the arrays dont have the same length then mean over the ones we have.\n",
    "def clipfunction(kills_0,kills_1,kills_2,kills_3):\n",
    "    length=[len(kills_0),len(kills_1),len(kills_2),len(kills_3)]\n",
    "    minlen=np.min(length)\n",
    "    #index_min = np.argmin(length)\n",
    "    return(kills_0[0:minlen],kills_1[0:minlen],kills_2[0:minlen],kills_3[0:minlen])\n",
    "\n",
    "def avgkilltimereward(path, smooth_factor):\n",
    "    string2=(path.split('_0'))\n",
    "    stringname={}\n",
    "    for i in range(0,4):\n",
    "        stringname[i]=string2[0]+'_'+str(i)\n",
    "    print(stringname[0])\n",
    "    kills_0 = np.asarray(logs[str(stringname[0])+'/Perf/Kills'])\n",
    "    kills_1 = np.asarray(logs[str(stringname[1])+'/Perf/Kills'])\n",
    "    kills_2 = np.asarray(logs[str(stringname[2])+'/Perf/Kills'])\n",
    "    kills_3 = np.asarray(logs[str(stringname[3])+'/Perf/Kills'])\n",
    "    timealive_0 = np.asarray(logs[str(stringname[0])+'/Perf/Length'])\n",
    "    timealive_1 = np.asarray(logs[str(stringname[1])+'/Perf/Length'])\n",
    "    timealive_2 = np.asarray(logs[str(stringname[2])+'/Perf/Length'])\n",
    "    timealive_3 = np.asarray(logs[str(stringname[3])+'/Perf/Length'])\n",
    "    \n",
    "    reward_0 = np.asarray(logs[str(stringname[0])+'/Perf/Reward'])\n",
    "    reward_1 = np.asarray(logs[str(stringname[1])+'/Perf/Reward'])\n",
    "    reward_2 = np.asarray(logs[str(stringname[2])+'/Perf/Reward'])\n",
    "    reward_3 = np.asarray(logs[str(stringname[3])+'/Perf/Reward'])\n",
    "    \n",
    "    # the total number of frames used to train:\n",
    "    timealive=np.sum([timealive_0.sum(),timealive_1.sum(),timealive_2.sum(),timealive_3.sum()])\n",
    "    episodemean=(timealive_0[-20:-1].mean()+timealive_1[-20:-1].mean()+timealive_2[-20:-1].mean()+timealive_3[-20:-1].mean())/4\n",
    "    killsmean=(kills_0[-20:-1].mean()+kills_1[-20:-1].mean()+kills_2[-20:-1].mean()+kills_3[-20:-1].mean())/4\n",
    "    print('Number of frames rendered='+str(timealive))\n",
    "    print('Average time alive per episode in last 100 episodes='+str(episodemean))\n",
    "    print('Average kills episode in last 100 episodes='+str(killsmean))\n",
    "    [kills_0,kills_1,kills_2,kills_3]=clipfunction(kills_0,kills_1,kills_2,kills_3)\n",
    "    [timealive_0,timealive_1,timealive_2,timealive_3]=clipfunction(timealive_0,timealive_1,timealive_2,timealive_3)\n",
    "    [reward_0,reward_1,reward_2,reward_3]=clipfunction(reward_0,reward_1,reward_2,reward_3)\n",
    "    \n",
    "    \n",
    "    timealivecum=np.sum([timealive_0.cumsum(),timealive_1.cumsum(),timealive_2.cumsum(),timealive_3.cumsum()],axis=0)\n",
    "    \n",
    "    [timealivecum,timealivecumstd]=smootherfunc(timealivecum,smooth_factor)\n",
    "    \n",
    "    \n",
    "    killsavg=np.mean([kills_0,kills_1,kills_2,kills_3],axis=0)\n",
    "    [killsavgsmoth,killsstd]=smootherfunc(killsavg,smooth_factor)\n",
    "    \n",
    "    timealiveavg=np.mean([timealive_0,timealive_1,timealive_2,timealive_3],axis=0)\n",
    "    [timealiveavgsmoth,timealivestd]=smootherfunc(timealiveavg,smooth_factor)\n",
    "    \n",
    "    rewardavg=np.mean([reward_0,reward_1,reward_2,reward_3],axis=0)\n",
    "    [rewardavgsmoth,rewardstd]=smootherfunc(rewardavg,smooth_factor)\n",
    "    \n",
    "    \n",
    "    return(killsavgsmoth,killsstd,timealiveavgsmoth,timealivestd,timealivecum,rewardavgsmoth,rewardstd,)\n",
    "    "
   ]
  },
  {
   "cell_type": "code",
   "execution_count": 5,
   "metadata": {},
   "outputs": [
    {
     "name": "stdout",
     "output_type": "stream",
     "text": [
      "train_v2s6_lr=0.0001_bs=10_0\n"
     ]
    },
    {
     "ename": "KeyError",
     "evalue": "'train_v2s6_lr=0.0001_bs=10_0/Perf/Kills'",
     "output_type": "error",
     "traceback": [
      "\u001b[1;31m---------------------------------------------------------------------------\u001b[0m",
      "\u001b[1;31mKeyError\u001b[0m                                  Traceback (most recent call last)",
      "\u001b[1;32m<ipython-input-5-51778bea0eb8>\u001b[0m in \u001b[0;36m<module>\u001b[1;34m()\u001b[0m\n\u001b[0;32m      3\u001b[0m \u001b[0msmooth_factor\u001b[0m\u001b[1;33m=\u001b[0m\u001b[1;36m200\u001b[0m \u001b[1;31m# from 1 to alot...\u001b[0m\u001b[1;33m\u001b[0m\u001b[1;33m\u001b[0m\u001b[0m\n\u001b[0;32m      4\u001b[0m \u001b[1;31m# Filepath of the folders which ends with : _0 , it fill load the rest of the agents, and average over them..\u001b[0m\u001b[1;33m\u001b[0m\u001b[1;33m\u001b[0m\u001b[1;33m\u001b[0m\u001b[0m\n\u001b[1;32m----> 5\u001b[1;33m \u001b[1;33m[\u001b[0m\u001b[0mkills10\u001b[0m\u001b[1;33m,\u001b[0m\u001b[0mkills10std\u001b[0m\u001b[1;33m,\u001b[0m\u001b[0mtimealive10\u001b[0m\u001b[1;33m,\u001b[0m\u001b[0mtimealive10std\u001b[0m\u001b[1;33m,\u001b[0m\u001b[0mframes10\u001b[0m\u001b[1;33m,\u001b[0m\u001b[0mreward10\u001b[0m\u001b[1;33m,\u001b[0m\u001b[0mreward10std\u001b[0m\u001b[1;33m]\u001b[0m\u001b[1;33m=\u001b[0m\u001b[0mavgkilltimereward\u001b[0m\u001b[1;33m(\u001b[0m\u001b[1;34m'train_v2s6_lr=0.0001_bs=10_0'\u001b[0m\u001b[1;33m,\u001b[0m\u001b[0msmooth_factor\u001b[0m\u001b[1;33m)\u001b[0m\u001b[1;33m\u001b[0m\u001b[1;33m\u001b[0m\u001b[0m\n\u001b[0m\u001b[0;32m      6\u001b[0m \u001b[1;33m[\u001b[0m\u001b[0mkills20\u001b[0m\u001b[1;33m,\u001b[0m\u001b[0mkills20std\u001b[0m\u001b[1;33m,\u001b[0m\u001b[0mtimealive20\u001b[0m\u001b[1;33m,\u001b[0m\u001b[0mtimealive20std\u001b[0m\u001b[1;33m,\u001b[0m\u001b[0mframes20\u001b[0m\u001b[1;33m,\u001b[0m\u001b[0mreward20\u001b[0m\u001b[1;33m,\u001b[0m\u001b[0mreward20std\u001b[0m\u001b[1;33m]\u001b[0m\u001b[1;33m=\u001b[0m\u001b[0mavgkilltimereward\u001b[0m\u001b[1;33m(\u001b[0m\u001b[1;34m'train_v2s6_lr=0.0001_bs=20_0'\u001b[0m\u001b[1;33m,\u001b[0m\u001b[0msmooth_factor\u001b[0m\u001b[1;33m)\u001b[0m\u001b[1;33m\u001b[0m\u001b[1;33m\u001b[0m\u001b[0m\n\u001b[0;32m      7\u001b[0m \u001b[1;33m[\u001b[0m\u001b[0mkills30\u001b[0m\u001b[1;33m,\u001b[0m\u001b[0mkills30std\u001b[0m\u001b[1;33m,\u001b[0m\u001b[0mtimealive30\u001b[0m\u001b[1;33m,\u001b[0m\u001b[0mtimealive30std\u001b[0m\u001b[1;33m,\u001b[0m\u001b[0mframes30\u001b[0m\u001b[1;33m,\u001b[0m\u001b[0mreward30\u001b[0m\u001b[1;33m,\u001b[0m\u001b[0mreward30std\u001b[0m\u001b[1;33m]\u001b[0m\u001b[1;33m=\u001b[0m\u001b[0mavgkilltimereward\u001b[0m\u001b[1;33m(\u001b[0m\u001b[1;34m'train_v2s6_lr=0.0001_bs=30_0'\u001b[0m\u001b[1;33m,\u001b[0m\u001b[0msmooth_factor\u001b[0m\u001b[1;33m)\u001b[0m\u001b[1;33m\u001b[0m\u001b[1;33m\u001b[0m\u001b[0m\n",
      "\u001b[1;32m<ipython-input-4-f9959fd33000>\u001b[0m in \u001b[0;36mavgkilltimereward\u001b[1;34m(path, smooth_factor)\u001b[0m\n\u001b[0;32m     18\u001b[0m         \u001b[0mstringname\u001b[0m\u001b[1;33m[\u001b[0m\u001b[0mi\u001b[0m\u001b[1;33m]\u001b[0m\u001b[1;33m=\u001b[0m\u001b[0mstring2\u001b[0m\u001b[1;33m[\u001b[0m\u001b[1;36m0\u001b[0m\u001b[1;33m]\u001b[0m\u001b[1;33m+\u001b[0m\u001b[1;34m'_'\u001b[0m\u001b[1;33m+\u001b[0m\u001b[0mstr\u001b[0m\u001b[1;33m(\u001b[0m\u001b[0mi\u001b[0m\u001b[1;33m)\u001b[0m\u001b[1;33m\u001b[0m\u001b[1;33m\u001b[0m\u001b[0m\n\u001b[0;32m     19\u001b[0m     \u001b[0mprint\u001b[0m\u001b[1;33m(\u001b[0m\u001b[0mstringname\u001b[0m\u001b[1;33m[\u001b[0m\u001b[1;36m0\u001b[0m\u001b[1;33m]\u001b[0m\u001b[1;33m)\u001b[0m\u001b[1;33m\u001b[0m\u001b[1;33m\u001b[0m\u001b[0m\n\u001b[1;32m---> 20\u001b[1;33m     \u001b[0mkills_0\u001b[0m \u001b[1;33m=\u001b[0m \u001b[0mnp\u001b[0m\u001b[1;33m.\u001b[0m\u001b[0masarray\u001b[0m\u001b[1;33m(\u001b[0m\u001b[0mlogs\u001b[0m\u001b[1;33m[\u001b[0m\u001b[0mstr\u001b[0m\u001b[1;33m(\u001b[0m\u001b[0mstringname\u001b[0m\u001b[1;33m[\u001b[0m\u001b[1;36m0\u001b[0m\u001b[1;33m]\u001b[0m\u001b[1;33m)\u001b[0m\u001b[1;33m+\u001b[0m\u001b[1;34m'/Perf/Kills'\u001b[0m\u001b[1;33m]\u001b[0m\u001b[1;33m)\u001b[0m\u001b[1;33m\u001b[0m\u001b[1;33m\u001b[0m\u001b[0m\n\u001b[0m\u001b[0;32m     21\u001b[0m     \u001b[0mkills_1\u001b[0m \u001b[1;33m=\u001b[0m \u001b[0mnp\u001b[0m\u001b[1;33m.\u001b[0m\u001b[0masarray\u001b[0m\u001b[1;33m(\u001b[0m\u001b[0mlogs\u001b[0m\u001b[1;33m[\u001b[0m\u001b[0mstr\u001b[0m\u001b[1;33m(\u001b[0m\u001b[0mstringname\u001b[0m\u001b[1;33m[\u001b[0m\u001b[1;36m1\u001b[0m\u001b[1;33m]\u001b[0m\u001b[1;33m)\u001b[0m\u001b[1;33m+\u001b[0m\u001b[1;34m'/Perf/Kills'\u001b[0m\u001b[1;33m]\u001b[0m\u001b[1;33m)\u001b[0m\u001b[1;33m\u001b[0m\u001b[1;33m\u001b[0m\u001b[0m\n\u001b[0;32m     22\u001b[0m     \u001b[0mkills_2\u001b[0m \u001b[1;33m=\u001b[0m \u001b[0mnp\u001b[0m\u001b[1;33m.\u001b[0m\u001b[0masarray\u001b[0m\u001b[1;33m(\u001b[0m\u001b[0mlogs\u001b[0m\u001b[1;33m[\u001b[0m\u001b[0mstr\u001b[0m\u001b[1;33m(\u001b[0m\u001b[0mstringname\u001b[0m\u001b[1;33m[\u001b[0m\u001b[1;36m2\u001b[0m\u001b[1;33m]\u001b[0m\u001b[1;33m)\u001b[0m\u001b[1;33m+\u001b[0m\u001b[1;34m'/Perf/Kills'\u001b[0m\u001b[1;33m]\u001b[0m\u001b[1;33m)\u001b[0m\u001b[1;33m\u001b[0m\u001b[1;33m\u001b[0m\u001b[0m\n",
      "\u001b[1;31mKeyError\u001b[0m: 'train_v2s6_lr=0.0001_bs=10_0/Perf/Kills'"
     ]
    }
   ],
   "source": [
    "\n",
    "# The smoothing factor \n",
    "smooth_factor=200 # from 1 to alot...\n",
    "# Filepath of the folders which ends with : _0 , it fill load the rest of the agents, and average over them..\n",
    "[kills10,kills10std,timealive10,timealive10std,frames10,reward10,reward10std]=avgkilltimereward('train_v2s6_lr=0.0001_bs=10_0',smooth_factor)\n",
    "[kills20,kills20std,timealive20,timealive20std,frames20,reward20,reward20std]=avgkilltimereward('train_v2s6_lr=0.0001_bs=20_0',smooth_factor)\n",
    "[kills30,kills30std,timealive30,timealive30std,frames30,reward30,reward30std]=avgkilltimereward('train_v2s6_lr=0.0001_bs=30_0',smooth_factor)\n",
    "[kills50,kills50std,timealive50,timealive50std,frames50,reward50,reward50std]=avgkilltimereward('train_v2s6_lr=0.0001_bs=50_0',smooth_factor)\n",
    "[kills75,kills75std,timealive75,timealive75std,frames75,reward75,reward75std]=avgkilltimereward('train_v2s6_lr=0.0001_bs=75_0',smooth_factor)\n",
    "[kills100,kills100std,timealive100,timealive100std,frames100,reward100,reward100std]=avgkilltimereward('train_v2s6_lr=0.0001_bs=100_0',smooth_factor)\n",
    "# so the output is the Kill, kill std. Time alive for each episode, std of that. The frames, and the reward and reward std.\n"
   ]
  },
  {
   "cell_type": "code",
   "execution_count": 6,
   "metadata": {},
   "outputs": [
    {
     "ename": "NameError",
     "evalue": "name 'frames10' is not defined",
     "output_type": "error",
     "traceback": [
      "\u001b[1;31m---------------------------------------------------------------------------\u001b[0m",
      "\u001b[1;31mNameError\u001b[0m                                 Traceback (most recent call last)",
      "\u001b[1;32m<ipython-input-6-d03716d8b32f>\u001b[0m in \u001b[0;36m<module>\u001b[1;34m()\u001b[0m\n\u001b[0;32m      2\u001b[0m \u001b[0mfigure1\u001b[0m\u001b[1;33m=\u001b[0m\u001b[0mplt\u001b[0m\u001b[1;33m.\u001b[0m\u001b[0mfigure\u001b[0m\u001b[1;33m(\u001b[0m\u001b[1;33m)\u001b[0m\u001b[1;33m\u001b[0m\u001b[1;33m\u001b[0m\u001b[0m\n\u001b[0;32m      3\u001b[0m \u001b[1;31m#figsize=(6, 6)\u001b[0m\u001b[1;33m\u001b[0m\u001b[1;33m\u001b[0m\u001b[1;33m\u001b[0m\u001b[0m\n\u001b[1;32m----> 4\u001b[1;33m \u001b[0mplt\u001b[0m\u001b[1;33m.\u001b[0m\u001b[0mplot\u001b[0m\u001b[1;33m(\u001b[0m\u001b[0mframes10\u001b[0m\u001b[1;33m,\u001b[0m\u001b[0mkills10\u001b[0m\u001b[1;33m,\u001b[0m\u001b[0mlabel\u001b[0m\u001b[1;33m=\u001b[0m\u001b[1;34m'Batch size 10'\u001b[0m\u001b[1;33m)\u001b[0m\u001b[1;33m\u001b[0m\u001b[1;33m\u001b[0m\u001b[0m\n\u001b[0m\u001b[0;32m      5\u001b[0m \u001b[0mplt\u001b[0m\u001b[1;33m.\u001b[0m\u001b[0mfill_between\u001b[0m\u001b[1;33m(\u001b[0m\u001b[0mframes10\u001b[0m\u001b[1;33m,\u001b[0m\u001b[0mkills10\u001b[0m\u001b[1;33m+\u001b[0m\u001b[1;36m2\u001b[0m\u001b[1;33m*\u001b[0m\u001b[0mkills10std\u001b[0m\u001b[1;33m,\u001b[0m\u001b[0mkills10\u001b[0m\u001b[1;33m-\u001b[0m\u001b[1;36m2\u001b[0m\u001b[1;33m*\u001b[0m\u001b[0mkills10std\u001b[0m\u001b[1;33m,\u001b[0m\u001b[0malpha\u001b[0m\u001b[1;33m=\u001b[0m\u001b[1;36m0.3\u001b[0m\u001b[1;33m)\u001b[0m\u001b[1;33m\u001b[0m\u001b[1;33m\u001b[0m\u001b[0m\n\u001b[0;32m      6\u001b[0m \u001b[0mplt\u001b[0m\u001b[1;33m.\u001b[0m\u001b[0mplot\u001b[0m\u001b[1;33m(\u001b[0m\u001b[0mframes20\u001b[0m\u001b[1;33m,\u001b[0m\u001b[0mkills20\u001b[0m\u001b[1;33m,\u001b[0m\u001b[0mlabel\u001b[0m\u001b[1;33m=\u001b[0m\u001b[1;34m'Batch size 20'\u001b[0m\u001b[1;33m)\u001b[0m\u001b[1;33m\u001b[0m\u001b[1;33m\u001b[0m\u001b[0m\n",
      "\u001b[1;31mNameError\u001b[0m: name 'frames10' is not defined"
     ]
    },
    {
     "data": {
      "text/plain": [
       "<Figure size 432x288 with 0 Axes>"
      ]
     },
     "metadata": {},
     "output_type": "display_data"
    }
   ],
   "source": [
    "\n",
    "figure1=plt.figure()\n",
    "#figsize=(6, 6)\n",
    "plt.plot(frames10,kills10,label='Batch size 10')\n",
    "plt.fill_between(frames10,kills10+2*kills10std,kills10-2*kills10std,alpha=0.3)\n",
    "plt.plot(frames20,kills20,label='Batch size 20')\n",
    "plt.fill_between(frames20,kills20+2*kills20std,kills20-2*kills20std,alpha=0.3)\n",
    "plt.plot(frames30,kills30,label='Batch size 30')\n",
    "plt.fill_between(frames30,kills30+2*kills30std,kills30-2*kills30std,alpha=0.3)\n",
    "plt.plot(frames50,kills50,label='Batch size 50')\n",
    "plt.fill_between(frames50,kills50+2*kills50std,kills50-2*kills50std,alpha=0.3)\n",
    "plt.plot(frames75,kills75,label='Batch size 75')\n",
    "plt.fill_between(frames75,kills75+2*kills75std,kills75-2*kills75std,alpha=0.3)\n",
    "plt.plot(frames100,kills100,label='Batch size 100')\n",
    "plt.fill_between(frames100,kills100+2*kills100std,kills100-2*kills100std,alpha=0.3)\n",
    "plt.ylabel('Average kills')\n",
    "plt.xlabel('Rendered frames')\n",
    "plt.ticklabel_format(style='sci', axis='x', scilimits=(0,0))\n",
    "plt.xlim([0,700000])\n",
    "plt.legend()\n",
    "\n",
    "plt.grid()\n",
    "\n",
    "# Save the plot the next cell."
   ]
  },
  {
   "cell_type": "code",
   "execution_count": 148,
   "metadata": {},
   "outputs": [],
   "source": [
    "figure1.savefig(\"predictpositionkills.pdf\", bbox_inches='tight')"
   ]
  },
  {
   "cell_type": "code",
   "execution_count": 134,
   "metadata": {},
   "outputs": [
    {
     "data": {
      "text/plain": [
       "[<matplotlib.lines.Line2D at 0x10fb0710>]"
      ]
     },
     "execution_count": 134,
     "metadata": {},
     "output_type": "execute_result"
    },
    {
     "data": {
      "image/png": "[encoded data removed]",
      "text/plain": [
       "<Figure size 432x288 with 1 Axes>"
      ]
     },
     "metadata": {
      "needs_background": "light"
     },
     "output_type": "display_data"
    }
   ],
   "source": [
    "plt.figure()\n",
    "#plt.plot(frames50,timealive50,label='Batch size 100')\n",
    "#plt.fill_between(frames50,timealive50+2*timealive50std,timealive50-2*timealive50std,alpha=0.3)\n",
    "plt.plot(frames100,timealive100,label='Time alive')\n"
   ]
  },
  {
   "cell_type": "code",
   "execution_count": null,
   "metadata": {},
   "outputs": [],
   "source": []
  }
 ],
 "metadata": {
  "kernelspec": {
   "display_name": "Python 3",
   "language": "python",
   "name": "python3"
  },
  "language_info": {
   "codemirror_mode": {
    "name": "ipython",
    "version": 3
   },
   "file_extension": ".py",
   "mimetype": "text/x-python",
   "name": "python",
   "nbconvert_exporter": "python",
   "pygments_lexer": "ipython3",
   "version": "3.6.8"
  }
 },
 "nbformat": 4,
 "nbformat_minor": 2
}
