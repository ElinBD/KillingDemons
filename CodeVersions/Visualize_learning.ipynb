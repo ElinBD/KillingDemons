{
 "cells": [
  {
   "cell_type": "code",
   "execution_count": 1,
   "metadata": {},
   "outputs": [],
   "source": [
    "import numpy as np\n",
    "import matplotlib.pyplot as plt\n",
    "import shutil\n",
    "from tensorboard.backend.event_processing import event_accumulator\n",
    "import subprocess\n",
    "import webbrowser\n",
    "import os"
   ]
  },
  {
   "cell_type": "code",
   "execution_count": 2,
   "metadata": {},
   "outputs": [],
   "source": [
    "def get_summary(save_path,prepend=\"\"):\n",
    "    ea = event_accumulator.EventAccumulator(save_path)\n",
    "    if not os.path.exists(save_path):\n",
    "        print(\"no save path found, returning empy dict...\")\n",
    "        return dict()\n",
    "    ea.Reload()\n",
    "    res = dict()\n",
    "    for tag in ea.Tags()['scalars']:\n",
    "        evs = ea.Scalars(tag)\n",
    "        wall_time = [e.wall_time for e in evs]\n",
    "        step = [e.step for e in evs]\n",
    "        value = [e.value for e in evs]\n",
    "        tag = prepend + tag\n",
    "        res[tag] = value\n",
    "        res[tag+\"_step\"] = step\n",
    "        res[tag + \"_wall_time\"] = wall_time\n",
    "    res[prepend + 'scalars'] = [prepend + t for t in ea.Tags()['scalars']]\n",
    "    scalars = ea.Tags()['scalars']\n",
    "    print(\"> get_summary():%s*; got %i scalars %s\" % (prepend, len(scalars), \", \".join(scalars)))\n",
    "\n",
    "    drs = os.listdir(save_path)\n",
    "    for d in drs:\n",
    "        np = os.path.join(save_path, d)\n",
    "        if os.path.isdir(np):\n",
    "            res.update( get_summary(np, d+'/') )\n",
    "    return res"
   ]
  },
  {
   "cell_type": "code",
   "execution_count": 4,
   "metadata": {},
   "outputs": [
    {
     "name": "stdout",
     "output_type": "stream",
     "text": [
      "> get_summary():*; got 0 scalars \n",
      "INFO:tensorflow:Directory watcher advancing from C:\\Users\\ejer\\Desktop\\Skole\\Universitet\\02460ADVANCEDMACHINELEARNING\\Project\\DoomEnvir\\doomenvir\\gdoom\\Predict\\predicts6\\train_v2s6_lr=0.0001_bs=10_0\\events.out.tfevents.1556454678.TOBIAS-PC to C:\\Users\\ejer\\Desktop\\Skole\\Universitet\\02460ADVANCEDMACHINELEARNING\\Project\\DoomEnvir\\doomenvir\\gdoom\\Predict\\predicts6\\train_v2s6_lr=0.0001_bs=10_0\\events.out.tfevents.1556964125.TOBIAS-PC\n",
      "INFO:tensorflow:No path found after C:\\Users\\ejer\\Desktop\\Skole\\Universitet\\02460ADVANCEDMACHINELEARNING\\Project\\DoomEnvir\\doomenvir\\gdoom\\Predict\\predicts6\\train_v2s6_lr=0.0001_bs=10_0\\events.out.tfevents.1556964125.TOBIAS-PC\n",
      "> get_summary():train_v2s6_lr=0.0001_bs=10_0/*; got 9 scalars Perf/Reward, Perf/Length, Perf/Value, Perf/Kills, Losses/Value Loss, Losses/Policy Loss, Losses/Entropy, Losses/Grad Norm, Losses/Var Norm\n",
      "INFO:tensorflow:Directory watcher advancing from C:\\Users\\ejer\\Desktop\\Skole\\Universitet\\02460ADVANCEDMACHINELEARNING\\Project\\DoomEnvir\\doomenvir\\gdoom\\Predict\\predicts6\\train_v2s6_lr=0.0001_bs=10_1\\events.out.tfevents.1556454674.TOBIAS-PC to C:\\Users\\ejer\\Desktop\\Skole\\Universitet\\02460ADVANCEDMACHINELEARNING\\Project\\DoomEnvir\\doomenvir\\gdoom\\Predict\\predicts6\\train_v2s6_lr=0.0001_bs=10_1\\events.out.tfevents.1556964126.TOBIAS-PC\n",
      "INFO:tensorflow:No path found after C:\\Users\\ejer\\Desktop\\Skole\\Universitet\\02460ADVANCEDMACHINELEARNING\\Project\\DoomEnvir\\doomenvir\\gdoom\\Predict\\predicts6\\train_v2s6_lr=0.0001_bs=10_1\\events.out.tfevents.1556964126.TOBIAS-PC\n",
      "> get_summary():train_v2s6_lr=0.0001_bs=10_1/*; got 9 scalars Perf/Reward, Perf/Length, Perf/Value, Perf/Kills, Losses/Value Loss, Losses/Policy Loss, Losses/Entropy, Losses/Grad Norm, Losses/Var Norm\n",
      "INFO:tensorflow:Directory watcher advancing from C:\\Users\\ejer\\Desktop\\Skole\\Universitet\\02460ADVANCEDMACHINELEARNING\\Project\\DoomEnvir\\doomenvir\\gdoom\\Predict\\predicts6\\train_v2s6_lr=0.0001_bs=10_2\\events.out.tfevents.1556454675.TOBIAS-PC to C:\\Users\\ejer\\Desktop\\Skole\\Universitet\\02460ADVANCEDMACHINELEARNING\\Project\\DoomEnvir\\doomenvir\\gdoom\\Predict\\predicts6\\train_v2s6_lr=0.0001_bs=10_2\\events.out.tfevents.1556964128.TOBIAS-PC\n",
      "INFO:tensorflow:No path found after C:\\Users\\ejer\\Desktop\\Skole\\Universitet\\02460ADVANCEDMACHINELEARNING\\Project\\DoomEnvir\\doomenvir\\gdoom\\Predict\\predicts6\\train_v2s6_lr=0.0001_bs=10_2\\events.out.tfevents.1556964128.TOBIAS-PC\n",
      "> get_summary():train_v2s6_lr=0.0001_bs=10_2/*; got 9 scalars Perf/Reward, Perf/Length, Perf/Value, Perf/Kills, Losses/Value Loss, Losses/Policy Loss, Losses/Entropy, Losses/Grad Norm, Losses/Var Norm\n",
      "INFO:tensorflow:Directory watcher advancing from C:\\Users\\ejer\\Desktop\\Skole\\Universitet\\02460ADVANCEDMACHINELEARNING\\Project\\DoomEnvir\\doomenvir\\gdoom\\Predict\\predicts6\\train_v2s6_lr=0.0001_bs=10_3\\events.out.tfevents.1556454677.TOBIAS-PC to C:\\Users\\ejer\\Desktop\\Skole\\Universitet\\02460ADVANCEDMACHINELEARNING\\Project\\DoomEnvir\\doomenvir\\gdoom\\Predict\\predicts6\\train_v2s6_lr=0.0001_bs=10_3\\events.out.tfevents.1556964125.TOBIAS-PC\n",
      "INFO:tensorflow:No path found after C:\\Users\\ejer\\Desktop\\Skole\\Universitet\\02460ADVANCEDMACHINELEARNING\\Project\\DoomEnvir\\doomenvir\\gdoom\\Predict\\predicts6\\train_v2s6_lr=0.0001_bs=10_3\\events.out.tfevents.1556964125.TOBIAS-PC\n",
      "> get_summary():train_v2s6_lr=0.0001_bs=10_3/*; got 9 scalars Perf/Reward, Perf/Length, Perf/Value, Perf/Kills, Losses/Value Loss, Losses/Policy Loss, Losses/Entropy, Losses/Grad Norm, Losses/Var Norm\n",
      "INFO:tensorflow:No path found after C:\\Users\\ejer\\Desktop\\Skole\\Universitet\\02460ADVANCEDMACHINELEARNING\\Project\\DoomEnvir\\doomenvir\\gdoom\\Predict\\predicts6\\train_v2s6_lr=0.0001_bs=20_0\\events.out.tfevents.1556980673.TOBIAS-PC\n",
      "> get_summary():train_v2s6_lr=0.0001_bs=20_0/*; got 9 scalars Perf/Reward, Perf/Length, Perf/Value, Perf/Kills, Losses/Value Loss, Losses/Policy Loss, Losses/Entropy, Losses/Grad Norm, Losses/Var Norm\n",
      "INFO:tensorflow:No path found after C:\\Users\\ejer\\Desktop\\Skole\\Universitet\\02460ADVANCEDMACHINELEARNING\\Project\\DoomEnvir\\doomenvir\\gdoom\\Predict\\predicts6\\train_v2s6_lr=0.0001_bs=20_1\\events.out.tfevents.1556980668.TOBIAS-PC\n",
      "> get_summary():train_v2s6_lr=0.0001_bs=20_1/*; got 9 scalars Perf/Reward, Perf/Length, Perf/Value, Perf/Kills, Losses/Value Loss, Losses/Policy Loss, Losses/Entropy, Losses/Grad Norm, Losses/Var Norm\n",
      "INFO:tensorflow:No path found after C:\\Users\\ejer\\Desktop\\Skole\\Universitet\\02460ADVANCEDMACHINELEARNING\\Project\\DoomEnvir\\doomenvir\\gdoom\\Predict\\predicts6\\train_v2s6_lr=0.0001_bs=20_2\\events.out.tfevents.1556980672.TOBIAS-PC\n",
      "> get_summary():train_v2s6_lr=0.0001_bs=20_2/*; got 9 scalars Perf/Reward, Perf/Length, Perf/Value, Perf/Kills, Losses/Value Loss, Losses/Policy Loss, Losses/Entropy, Losses/Grad Norm, Losses/Var Norm\n",
      "INFO:tensorflow:No path found after C:\\Users\\ejer\\Desktop\\Skole\\Universitet\\02460ADVANCEDMACHINELEARNING\\Project\\DoomEnvir\\doomenvir\\gdoom\\Predict\\predicts6\\train_v2s6_lr=0.0001_bs=20_3\\events.out.tfevents.1556980669.TOBIAS-PC\n",
      "> get_summary():train_v2s6_lr=0.0001_bs=20_3/*; got 9 scalars Perf/Reward, Perf/Length, Perf/Value, Perf/Kills, Losses/Value Loss, Losses/Policy Loss, Losses/Entropy, Losses/Grad Norm, Losses/Var Norm\n",
      "INFO:tensorflow:No path found after C:\\Users\\ejer\\Desktop\\Skole\\Universitet\\02460ADVANCEDMACHINELEARNING\\Project\\DoomEnvir\\doomenvir\\gdoom\\Predict\\predicts6\\train_v2s6_lr=0.0001_bs=30_0\\events.out.tfevents.1556992621.TOBIAS-PC\n",
      "> get_summary():train_v2s6_lr=0.0001_bs=30_0/*; got 9 scalars Perf/Reward, Perf/Length, Perf/Value, Perf/Kills, Losses/Value Loss, Losses/Policy Loss, Losses/Entropy, Losses/Grad Norm, Losses/Var Norm\n",
      "INFO:tensorflow:No path found after C:\\Users\\ejer\\Desktop\\Skole\\Universitet\\02460ADVANCEDMACHINELEARNING\\Project\\DoomEnvir\\doomenvir\\gdoom\\Predict\\predicts6\\train_v2s6_lr=0.0001_bs=30_1\\events.out.tfevents.1556992625.TOBIAS-PC\n",
      "> get_summary():train_v2s6_lr=0.0001_bs=30_1/*; got 9 scalars Perf/Reward, Perf/Length, Perf/Value, Perf/Kills, Losses/Value Loss, Losses/Policy Loss, Losses/Entropy, Losses/Grad Norm, Losses/Var Norm\n",
      "INFO:tensorflow:No path found after C:\\Users\\ejer\\Desktop\\Skole\\Universitet\\02460ADVANCEDMACHINELEARNING\\Project\\DoomEnvir\\doomenvir\\gdoom\\Predict\\predicts6\\train_v2s6_lr=0.0001_bs=30_2\\events.out.tfevents.1556992619.TOBIAS-PC\n",
      "> get_summary():train_v2s6_lr=0.0001_bs=30_2/*; got 9 scalars Perf/Reward, Perf/Length, Perf/Value, Perf/Kills, Losses/Value Loss, Losses/Policy Loss, Losses/Entropy, Losses/Grad Norm, Losses/Var Norm\n",
      "INFO:tensorflow:No path found after C:\\Users\\ejer\\Desktop\\Skole\\Universitet\\02460ADVANCEDMACHINELEARNING\\Project\\DoomEnvir\\doomenvir\\gdoom\\Predict\\predicts6\\train_v2s6_lr=0.0001_bs=30_3\\events.out.tfevents.1556992622.TOBIAS-PC\n",
      "> get_summary():train_v2s6_lr=0.0001_bs=30_3/*; got 9 scalars Perf/Reward, Perf/Length, Perf/Value, Perf/Kills, Losses/Value Loss, Losses/Policy Loss, Losses/Entropy, Losses/Grad Norm, Losses/Var Norm\n"
     ]
    }
   ],
   "source": [
    "logs = get_summary('C:\\\\Users\\\\ejer\\\\Desktop\\\\Skole\\\\Universitet\\\\02460ADVANCEDMACHINELEARNING\\\\Project\\\\DoomEnvir\\\\doomenvir\\\\gdoom\\\\Predict\\\\predicts6')"
   ]
  },
  {
   "cell_type": "code",
   "execution_count": 64,
   "metadata": {},
   "outputs": [
    {
     "data": {
      "text/plain": [
       "178431.80009937286"
      ]
     },
     "execution_count": 64,
     "metadata": {},
     "output_type": "execute_result"
    }
   ],
   "source": [
    "timealive_0 = logs['train_v2s6_lr=0.0001_bs=10_0/Perf/Length']\n",
    "timealive_1 = logs['train_v2s6_lr=0.0001_bs=10_1/Perf/Length']\n",
    "timealive_2 = logs['train_v2s6_lr=0.0001_bs=10_2/Perf/Length']\n",
    "timealive_3 = logs['train_v2s6_lr=0.0001_bs=10_3/Perf/Length']\n",
    "timealive_0 = np.asarray(timealive_0)\n",
    "timealive_1 = np.asarray(timealive_1)\n",
    "timealive_2 = np.asarray(timealive_2)\n",
    "timealive_3 = np.asarray(timealive_3)\n",
    "\n",
    "# the total number of frames used to train:\n",
    "timealive=timealive_0.sum()+timealive_1.sum()+timealive_2.sum()+timealive_3.sum()\n",
    "timealive_all=[timealive_0,timealive_1,timealive_2,timealive_3]\n",
    "timealive"
   ]
  },
  {
   "cell_type": "code",
   "execution_count": 65,
   "metadata": {},
   "outputs": [
    {
     "ename": "AttributeError",
     "evalue": "'list' object has no attribute 'mean'",
     "output_type": "error",
     "traceback": [
      "\u001b[1;31m---------------------------------------------------------------------------\u001b[0m",
      "\u001b[1;31mAttributeError\u001b[0m                            Traceback (most recent call last)",
      "\u001b[1;32m<ipython-input-65-7e5ad9e169c7>\u001b[0m in \u001b[0;36m<module>\u001b[1;34m\u001b[0m\n\u001b[1;32m----> 1\u001b[1;33m \u001b[0mtimealive_all\u001b[0m\u001b[1;33m.\u001b[0m\u001b[0mmean\u001b[0m\u001b[1;33m(\u001b[0m\u001b[1;33m)\u001b[0m\u001b[1;33m\u001b[0m\u001b[1;33m\u001b[0m\u001b[0m\n\u001b[0m",
      "\u001b[1;31mAttributeError\u001b[0m: 'list' object has no attribute 'mean'"
     ]
    }
   ],
   "source": [
    "timealive_all.mean()"
   ]
  },
  {
   "cell_type": "code",
   "execution_count": 57,
   "metadata": {},
   "outputs": [
    {
     "ename": "IndexError",
     "evalue": "invalid index to scalar variable.",
     "output_type": "error",
     "traceback": [
      "\u001b[1;31m---------------------------------------------------------------------------\u001b[0m",
      "\u001b[1;31mIndexError\u001b[0m                                Traceback (most recent call last)",
      "\u001b[1;32m<ipython-input-57-977a41e5b0c5>\u001b[0m in \u001b[0;36m<module>\u001b[1;34m\u001b[0m\n\u001b[0;32m      1\u001b[0m \u001b[1;31m# Average time alive in the last 100 episodes\u001b[0m\u001b[1;33m\u001b[0m\u001b[1;33m\u001b[0m\u001b[1;33m\u001b[0m\u001b[0m\n\u001b[1;32m----> 2\u001b[1;33m \u001b[0mtimealive\u001b[0m\u001b[1;33m[\u001b[0m\u001b[1;33m-\u001b[0m\u001b[1;36m20\u001b[0m\u001b[1;33m:\u001b[0m\u001b[1;33m-\u001b[0m\u001b[1;36m1\u001b[0m\u001b[1;33m]\u001b[0m\u001b[1;33m.\u001b[0m\u001b[0mmean\u001b[0m\u001b[1;33m(\u001b[0m\u001b[1;33m)\u001b[0m\u001b[1;33m\u001b[0m\u001b[1;33m\u001b[0m\u001b[0m\n\u001b[0m",
      "\u001b[1;31mIndexError\u001b[0m: invalid index to scalar variable."
     ]
    }
   ],
   "source": [
    "# Average time alive in the last 100 episodes\n",
    "timealive[-20:-1].mean()"
   ]
  },
  {
   "cell_type": "code",
   "execution_count": 49,
   "metadata": {},
   "outputs": [
    {
     "data": {
      "text/plain": [
       "0"
      ]
     },
     "execution_count": 49,
     "metadata": {},
     "output_type": "execute_result"
    }
   ],
   "source": [
    "kills_0 = np.asarray(logs['train_v2s6_lr=0.0001_bs=30_0/Perf/Kills'])\n",
    "kills_1 = np.asarray(logs['train_v2s6_lr=0.0001_bs=30_1/Perf/Kills'])\n",
    "kills_2 = np.asarray(logs['train_v2s6_lr=0.0001_bs=30_2/Perf/Kills'])\n",
    "kills_3 = np.asarray(logs['train_v2s6_lr=0.0001_bs=30_3/Perf/Kills'])\n",
    "# Average kills over last 100 episodes\n",
    "int(round(kills[-200:-1].mean(), 10))"
   ]
  },
  {
   "cell_type": "code",
   "execution_count": 51,
   "metadata": {},
   "outputs": [
    {
     "data": {
      "text/plain": [
       "1200"
      ]
     },
     "execution_count": 51,
     "metadata": {},
     "output_type": "execute_result"
    }
   ],
   "source": [
    "#kills_0[-20:-1].mean()\n",
    "len(timealive_0)\n",
    "len(kills_0)"
   ]
  },
  {
   "cell_type": "code",
   "execution_count": 42,
   "metadata": {},
   "outputs": [
    {
     "ename": "ValueError",
     "evalue": "x and y must be the same size",
     "output_type": "error",
     "traceback": [
      "\u001b[1;31m---------------------------------------------------------------------------\u001b[0m",
      "\u001b[1;31mValueError\u001b[0m                                Traceback (most recent call last)",
      "\u001b[1;32m<ipython-input-42-599ba422dcf4>\u001b[0m in \u001b[0;36m<module>\u001b[1;34m\u001b[0m\n\u001b[0;32m      1\u001b[0m \u001b[0mplt\u001b[0m\u001b[1;33m.\u001b[0m\u001b[0mfigure\u001b[0m\u001b[1;33m(\u001b[0m\u001b[1;33m)\u001b[0m\u001b[1;33m\u001b[0m\u001b[1;33m\u001b[0m\u001b[0m\n\u001b[1;32m----> 2\u001b[1;33m \u001b[0mplt\u001b[0m\u001b[1;33m.\u001b[0m\u001b[0mscatter\u001b[0m\u001b[1;33m(\u001b[0m\u001b[0mtimealive_0\u001b[0m\u001b[1;33m,\u001b[0m\u001b[0mkills_0\u001b[0m\u001b[1;33m)\u001b[0m\u001b[1;33m\u001b[0m\u001b[1;33m\u001b[0m\u001b[0m\n\u001b[0m\u001b[0;32m      3\u001b[0m \u001b[0mplt\u001b[0m\u001b[1;33m.\u001b[0m\u001b[0mscatter\u001b[0m\u001b[1;33m(\u001b[0m\u001b[0mtimealive_1\u001b[0m\u001b[1;33m,\u001b[0m\u001b[0mkills_1\u001b[0m\u001b[1;33m)\u001b[0m\u001b[1;33m\u001b[0m\u001b[1;33m\u001b[0m\u001b[0m\n\u001b[0;32m      4\u001b[0m \u001b[0mplt\u001b[0m\u001b[1;33m.\u001b[0m\u001b[0mscatter\u001b[0m\u001b[1;33m(\u001b[0m\u001b[0mtimealive_2\u001b[0m\u001b[1;33m,\u001b[0m\u001b[0mkills_2\u001b[0m\u001b[1;33m)\u001b[0m\u001b[1;33m\u001b[0m\u001b[1;33m\u001b[0m\u001b[0m\n\u001b[0;32m      5\u001b[0m \u001b[0mplt\u001b[0m\u001b[1;33m.\u001b[0m\u001b[0mscatter\u001b[0m\u001b[1;33m(\u001b[0m\u001b[0mtimealive_3\u001b[0m\u001b[1;33m,\u001b[0m\u001b[0mkills_3\u001b[0m\u001b[1;33m)\u001b[0m\u001b[1;33m\u001b[0m\u001b[1;33m\u001b[0m\u001b[0m\n",
      "\u001b[1;32m~\\Anaconda3\\envs\\doom368\\lib\\site-packages\\matplotlib\\pyplot.py\u001b[0m in \u001b[0;36mscatter\u001b[1;34m(x, y, s, c, marker, cmap, norm, vmin, vmax, alpha, linewidths, verts, edgecolors, data, **kwargs)\u001b[0m\n\u001b[0;32m   2860\u001b[0m         \u001b[0mvmin\u001b[0m\u001b[1;33m=\u001b[0m\u001b[0mvmin\u001b[0m\u001b[1;33m,\u001b[0m \u001b[0mvmax\u001b[0m\u001b[1;33m=\u001b[0m\u001b[0mvmax\u001b[0m\u001b[1;33m,\u001b[0m \u001b[0malpha\u001b[0m\u001b[1;33m=\u001b[0m\u001b[0malpha\u001b[0m\u001b[1;33m,\u001b[0m \u001b[0mlinewidths\u001b[0m\u001b[1;33m=\u001b[0m\u001b[0mlinewidths\u001b[0m\u001b[1;33m,\u001b[0m\u001b[1;33m\u001b[0m\u001b[1;33m\u001b[0m\u001b[0m\n\u001b[0;32m   2861\u001b[0m         verts=verts, edgecolors=edgecolors, **({\"data\": data} if data\n\u001b[1;32m-> 2862\u001b[1;33m         is not None else {}), **kwargs)\n\u001b[0m\u001b[0;32m   2863\u001b[0m     \u001b[0msci\u001b[0m\u001b[1;33m(\u001b[0m\u001b[0m__ret\u001b[0m\u001b[1;33m)\u001b[0m\u001b[1;33m\u001b[0m\u001b[1;33m\u001b[0m\u001b[0m\n\u001b[0;32m   2864\u001b[0m     \u001b[1;32mreturn\u001b[0m \u001b[0m__ret\u001b[0m\u001b[1;33m\u001b[0m\u001b[1;33m\u001b[0m\u001b[0m\n",
      "\u001b[1;32m~\\Anaconda3\\envs\\doom368\\lib\\site-packages\\matplotlib\\__init__.py\u001b[0m in \u001b[0;36minner\u001b[1;34m(ax, data, *args, **kwargs)\u001b[0m\n\u001b[0;32m   1808\u001b[0m                         \u001b[1;34m\"the Matplotlib list!)\"\u001b[0m \u001b[1;33m%\u001b[0m \u001b[1;33m(\u001b[0m\u001b[0mlabel_namer\u001b[0m\u001b[1;33m,\u001b[0m \u001b[0mfunc\u001b[0m\u001b[1;33m.\u001b[0m\u001b[0m__name__\u001b[0m\u001b[1;33m)\u001b[0m\u001b[1;33m,\u001b[0m\u001b[1;33m\u001b[0m\u001b[1;33m\u001b[0m\u001b[0m\n\u001b[0;32m   1809\u001b[0m                         RuntimeWarning, stacklevel=2)\n\u001b[1;32m-> 1810\u001b[1;33m             \u001b[1;32mreturn\u001b[0m \u001b[0mfunc\u001b[0m\u001b[1;33m(\u001b[0m\u001b[0max\u001b[0m\u001b[1;33m,\u001b[0m \u001b[1;33m*\u001b[0m\u001b[0margs\u001b[0m\u001b[1;33m,\u001b[0m \u001b[1;33m**\u001b[0m\u001b[0mkwargs\u001b[0m\u001b[1;33m)\u001b[0m\u001b[1;33m\u001b[0m\u001b[1;33m\u001b[0m\u001b[0m\n\u001b[0m\u001b[0;32m   1811\u001b[0m \u001b[1;33m\u001b[0m\u001b[0m\n\u001b[0;32m   1812\u001b[0m         inner.__doc__ = _add_data_doc(inner.__doc__,\n",
      "\u001b[1;32m~\\Anaconda3\\envs\\doom368\\lib\\site-packages\\matplotlib\\axes\\_axes.py\u001b[0m in \u001b[0;36mscatter\u001b[1;34m(self, x, y, s, c, marker, cmap, norm, vmin, vmax, alpha, linewidths, verts, edgecolors, **kwargs)\u001b[0m\n\u001b[0;32m   4180\u001b[0m         \u001b[0my\u001b[0m \u001b[1;33m=\u001b[0m \u001b[0mnp\u001b[0m\u001b[1;33m.\u001b[0m\u001b[0mma\u001b[0m\u001b[1;33m.\u001b[0m\u001b[0mravel\u001b[0m\u001b[1;33m(\u001b[0m\u001b[0my\u001b[0m\u001b[1;33m)\u001b[0m\u001b[1;33m\u001b[0m\u001b[1;33m\u001b[0m\u001b[0m\n\u001b[0;32m   4181\u001b[0m         \u001b[1;32mif\u001b[0m \u001b[0mx\u001b[0m\u001b[1;33m.\u001b[0m\u001b[0msize\u001b[0m \u001b[1;33m!=\u001b[0m \u001b[0my\u001b[0m\u001b[1;33m.\u001b[0m\u001b[0msize\u001b[0m\u001b[1;33m:\u001b[0m\u001b[1;33m\u001b[0m\u001b[1;33m\u001b[0m\u001b[0m\n\u001b[1;32m-> 4182\u001b[1;33m             \u001b[1;32mraise\u001b[0m \u001b[0mValueError\u001b[0m\u001b[1;33m(\u001b[0m\u001b[1;34m\"x and y must be the same size\"\u001b[0m\u001b[1;33m)\u001b[0m\u001b[1;33m\u001b[0m\u001b[1;33m\u001b[0m\u001b[0m\n\u001b[0m\u001b[0;32m   4183\u001b[0m \u001b[1;33m\u001b[0m\u001b[0m\n\u001b[0;32m   4184\u001b[0m         \u001b[1;32mif\u001b[0m \u001b[0ms\u001b[0m \u001b[1;32mis\u001b[0m \u001b[1;32mNone\u001b[0m\u001b[1;33m:\u001b[0m\u001b[1;33m\u001b[0m\u001b[1;33m\u001b[0m\u001b[0m\n",
      "\u001b[1;31mValueError\u001b[0m: x and y must be the same size"
     ]
    },
    {
     "data": {
      "image/png": "[encoded data removed]",
      "text/plain": [
       "<Figure size 432x288 with 1 Axes>"
      ]
     },
     "metadata": {
      "needs_background": "light"
     },
     "output_type": "display_data"
    }
   ],
   "source": [
    "plt.figure()\n",
    "plt.scatter(timealive_0,kills_0)\n",
    "plt.scatter(timealive_1,kills_1)\n",
    "plt.scatter(timealive_2,kills_2)\n",
    "plt.scatter(timealive_3,kills_3)"
   ]
  }
 ],
 "metadata": {
  "kernelspec": {
   "display_name": "Python 3",
   "language": "python",
   "name": "python3"
  },
  "language_info": {
   "codemirror_mode": {
    "name": "ipython",
    "version": 3
   },
   "file_extension": ".py",
   "mimetype": "text/x-python",
   "name": "python",
   "nbconvert_exporter": "python",
   "pygments_lexer": "ipython3",
   "version": "3.6.8"
  }
 },
 "nbformat": 4,
 "nbformat_minor": 2
}
