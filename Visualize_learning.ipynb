{
 "cells": [
  {
   "cell_type": "code",
   "execution_count": 5,
   "metadata": {},
   "outputs": [],
   "source": [
    "import numpy as np\n",
    "import matplotlib.pyplot as plt\n",
    "import shutil\n",
    "from tensorboard.backend.event_processing import event_accumulator\n",
    "import subprocess\n",
    "import webbrowser\n",
    "import os"
   ]
  },
  {
   "cell_type": "code",
   "execution_count": 2,
   "metadata": {},
   "outputs": [],
   "source": [
    "def get_summary(save_path,prepend=\"\"):\n",
    "    ea = event_accumulator.EventAccumulator(save_path)\n",
    "    if not os.path.exists(save_path):\n",
    "        print(\"no save path found, returning empy dict...\")\n",
    "        return dict()\n",
    "    ea.Reload()\n",
    "    res = dict()\n",
    "    for tag in ea.Tags()['scalars']:\n",
    "        evs = ea.Scalars(tag)\n",
    "        wall_time = [e.wall_time for e in evs]\n",
    "        step = [e.step for e in evs]\n",
    "        value = [e.value for e in evs]\n",
    "        tag = prepend + tag\n",
    "        res[tag] = value\n",
    "        res[tag+\"_step\"] = step\n",
    "        res[tag + \"_wall_time\"] = wall_time\n",
    "    res[prepend + 'scalars'] = [prepend + t for t in ea.Tags()['scalars']]\n",
    "    scalars = ea.Tags()['scalars']\n",
    "    print(\"> get_summary():%s*; got %i scalars %s\" % (prepend, len(scalars), \", \".join(scalars)))\n",
    "\n",
    "    drs = os.listdir(save_path)\n",
    "    for d in drs:\n",
    "        np = os.path.join(save_path, d)\n",
    "        if os.path.isdir(np):\n",
    "            res.update( get_summary(np, d+'/') )\n",
    "    return res"
   ]
  },
  {
   "cell_type": "code",
   "execution_count": 3,
   "metadata": {},
   "outputs": [
    {
     "name": "stdout",
     "output_type": "stream",
     "text": [
      "> get_summary():*; got 0 scalars \n",
      "INFO:tensorflow:No path found after /home/louis/env/py36cv4/ViZDoom/02460_doom_rl_2019/gdoom/DefendCenter_goodPerformance/train_v2_lr=0.0001_bs=10_0/events.out.tfevents.1556385093.TOBIAS-PC\n",
      "> get_summary():train_v2_lr=0.0001_bs=10_0/*; got 9 scalars Perf/Reward, Perf/Length, Perf/Value, Kills, Losses/Value Loss, Losses/Policy Loss, Losses/Entropy, Losses/Grad Norm, Losses/Var Norm\n",
      "INFO:tensorflow:No path found after /home/louis/env/py36cv4/ViZDoom/02460_doom_rl_2019/gdoom/DefendCenter_goodPerformance/train_v2_lr=0.0001_bs=10_1/events.out.tfevents.1556385110.TOBIAS-PC\n",
      "> get_summary():train_v2_lr=0.0001_bs=10_1/*; got 9 scalars Perf/Reward, Perf/Length, Perf/Value, Kills, Losses/Value Loss, Losses/Policy Loss, Losses/Entropy, Losses/Grad Norm, Losses/Var Norm\n",
      "INFO:tensorflow:No path found after /home/louis/env/py36cv4/ViZDoom/02460_doom_rl_2019/gdoom/DefendCenter_goodPerformance/train_v2_lr=0.0001_bs=10_2/events.out.tfevents.1556385097.TOBIAS-PC\n",
      "> get_summary():train_v2_lr=0.0001_bs=10_2/*; got 9 scalars Perf/Reward, Perf/Length, Perf/Value, Kills, Losses/Value Loss, Losses/Policy Loss, Losses/Entropy, Losses/Grad Norm, Losses/Var Norm\n",
      "INFO:tensorflow:No path found after /home/louis/env/py36cv4/ViZDoom/02460_doom_rl_2019/gdoom/DefendCenter_goodPerformance/train_v2_lr=0.0001_bs=10_3/events.out.tfevents.1556385100.TOBIAS-PC\n",
      "> get_summary():train_v2_lr=0.0001_bs=10_3/*; got 9 scalars Perf/Reward, Perf/Length, Perf/Value, Kills, Losses/Value Loss, Losses/Policy Loss, Losses/Entropy, Losses/Grad Norm, Losses/Var Norm\n"
     ]
    }
   ],
   "source": [
    "logs = get_summary('/home/louis/env/py36cv4/ViZDoom/02460_doom_rl_2019/gdoom/DefendCenter_goodPerformance')"
   ]
  },
  {
   "cell_type": "code",
   "execution_count": 6,
   "metadata": {},
   "outputs": [
    {
     "data": {
      "text/plain": [
       "3057020.002746582"
      ]
     },
     "execution_count": 6,
     "metadata": {},
     "output_type": "execute_result"
    }
   ],
   "source": [
    "timealive = logs['train_v2_lr=0.0001_bs=10_0/Perf/Length']\n",
    "timealive = np.asarray(timealive)\n",
    "\n",
    "# the total number of frames used to train:\n",
    "timealive.sum()*20"
   ]
  },
  {
   "cell_type": "code",
   "execution_count": 11,
   "metadata": {},
   "outputs": [
    {
     "data": {
      "text/plain": [
       "367"
      ]
     },
     "execution_count": 11,
     "metadata": {},
     "output_type": "execute_result"
    }
   ],
   "source": [
    "# Average time alive in the last 100 episodes\n",
    "int(round(timealive[-20:-1].mean(), 0))"
   ]
  },
  {
   "cell_type": "code",
   "execution_count": 12,
   "metadata": {},
   "outputs": [
    {
     "data": {
      "text/plain": [
       "24"
      ]
     },
     "execution_count": 12,
     "metadata": {},
     "output_type": "execute_result"
    }
   ],
   "source": [
    "kills = np.asarray(logs['train_v2_lr=0.0001_bs=10_0/Kills'])\n",
    "\n",
    "# Average kills over last 100 episodes\n",
    "int(round(kills[-20:-1].mean(), 0))"
   ]
  },
  {
   "cell_type": "code",
   "execution_count": 13,
   "metadata": {},
   "outputs": [
    {
     "data": {
      "text/plain": [
       "[<matplotlib.lines.Line2D at 0x7fd1639a4ef0>]"
      ]
     },
     "execution_count": 13,
     "metadata": {},
     "output_type": "execute_result"
    },
    {
     "data": {
      "image/png": "[encoded data removed]",
      "text/plain": [
       "<Figure size 432x288 with 1 Axes>"
      ]
     },
     "metadata": {
      "needs_background": "light"
     },
     "output_type": "display_data"
    }
   ],
   "source": [
    "plt.plot(kills)"
   ]
  }
 ],
 "metadata": {
  "kernelspec": {
   "display_name": "py36cv4",
   "language": "python",
   "name": "py36cv4"
  },
  "language_info": {
   "codemirror_mode": {
    "name": "ipython",
    "version": 3
   },
   "file_extension": ".py",
   "mimetype": "text/x-python",
   "name": "python",
   "nbconvert_exporter": "python",
   "pygments_lexer": "ipython3",
   "version": "3.6.7"
  }
 },
 "nbformat": 4,
 "nbformat_minor": 2
}
